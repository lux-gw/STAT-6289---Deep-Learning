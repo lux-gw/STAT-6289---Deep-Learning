{
  "nbformat": 4,
  "nbformat_minor": 0,
  "metadata": {
    "colab": {
      "name": "HW5_Luxenberg_Sam.ipynb",
      "provenance": [],
      "collapsed_sections": [],
      "authorship_tag": "ABX9TyN1KI/sGGCsAkaI8QeOk1dJ",
      "include_colab_link": true
    },
    "kernelspec": {
      "name": "python3",
      "display_name": "Python 3"
    }
  },
  "cells": [
    {
      "cell_type": "markdown",
      "metadata": {
        "id": "view-in-github",
        "colab_type": "text"
      },
      "source": [
        "<a href=\"https://colab.research.google.com/github/lux-gw/STAT-6289---Deep-Learning/blob/master/HW5_Luxenberg_Sam.ipynb\" target=\"_parent\"><img src=\"https://colab.research.google.com/assets/colab-badge.svg\" alt=\"Open In Colab\"/></a>"
      ]
    },
    {
      "cell_type": "code",
      "metadata": {
        "colab": {
          "base_uri": "https://localhost:8080/"
        },
        "id": "BFGzkZGZykWq",
        "outputId": "3a292e97-e457-44cd-e5d7-53a927257599"
      },
      "source": [
        "from google.colab import drive\n",
        "drive.mount('/content/gdrive')"
      ],
      "execution_count": 1,
      "outputs": [
        {
          "output_type": "stream",
          "text": [
            "Mounted at /content/gdrive\n"
          ],
          "name": "stdout"
        }
      ]
    },
    {
      "cell_type": "code",
      "metadata": {
        "colab": {
          "base_uri": "https://localhost:8080/"
        },
        "id": "Ulg69Y00yt_R",
        "outputId": "9fdb3d04-4b5e-4982-ff4c-5db7d00c0de0"
      },
      "source": [
        "# Install Magnitude on Google Colab\n",
        "! echo \"Installing Magnitude.... (please wait, can take a while)\"\n",
        "! (curl https://raw.githubusercontent.com/plasticityai/magnitude/master/install-colab.sh | /bin/bash 1>/dev/null 2>/dev/null)\n",
        "! echo \"Done installing Magnitude.\""
      ],
      "execution_count": 4,
      "outputs": [
        {
          "output_type": "stream",
          "text": [
            "Installing Magnitude.... (please wait, can take a while)\n",
            "  % Total    % Received % Xferd  Average Speed   Time    Time     Time  Current\n",
            "                                 Dload  Upload   Total   Spent    Left  Speed\n",
            "100   137  100   137    0     0    598      0 --:--:-- --:--:-- --:--:--   600\n",
            "Done installing Magnitude.\n"
          ],
          "name": "stdout"
        }
      ]
    },
    {
      "cell_type": "code",
      "metadata": {
        "id": "aAWCI-0-yymW"
      },
      "source": [
        "from pymagnitude import *"
      ],
      "execution_count": 5,
      "outputs": []
    },
    {
      "cell_type": "code",
      "metadata": {
        "colab": {
          "base_uri": "https://localhost:8080/"
        },
        "id": "5pSMB3Xi3XOa",
        "outputId": "0172d233-a3a5-4094-f4f1-60c4504d32b5"
      },
      "source": [
        "!wget http://magnitude.plasticity.ai/word2vec/light/GoogleNews-vectors-negative300.magnitude"
      ],
      "execution_count": 7,
      "outputs": [
        {
          "output_type": "stream",
          "text": [
            "--2020-11-17 20:23:36--  http://magnitude.plasticity.ai/word2vec/light/GoogleNews-vectors-negative300.magnitude\n",
            "Resolving magnitude.plasticity.ai (magnitude.plasticity.ai)... 52.217.68.227\n",
            "Connecting to magnitude.plasticity.ai (magnitude.plasticity.ai)|52.217.68.227|:80... connected.\n",
            "HTTP request sent, awaiting response... 200 OK\n",
            "Length: 4211335168 (3.9G) [binary/octet-stream]\n",
            "Saving to: ‘GoogleNews-vectors-negative300.magnitude’\n",
            "\n",
            "GoogleNews-vectors- 100%[===================>]   3.92G  31.2MB/s    in 2m 5s   \n",
            "\n",
            "2020-11-17 20:25:42 (32.0 MB/s) - ‘GoogleNews-vectors-negative300.magnitude’ saved [4211335168/4211335168]\n",
            "\n"
          ],
          "name": "stdout"
        }
      ]
    },
    {
      "cell_type": "code",
      "metadata": {
        "id": "iGbjlNmV3xpi"
      },
      "source": [
        "file_path = \"GoogleNews-vectors-negative300.magnitude\"\n",
        "vectors = Magnitude(file_path)"
      ],
      "execution_count": 8,
      "outputs": []
    },
    {
      "cell_type": "code",
      "metadata": {
        "colab": {
          "base_uri": "https://localhost:8080/"
        },
        "id": "0TLnIJmHPc34",
        "outputId": "6790d221-ef91-48aa-c1ab-e3bd13fb710f"
      },
      "source": [
        "vectors.distance(\"cat\", \"dog\")"
      ],
      "execution_count": 9,
      "outputs": [
        {
          "output_type": "execute_result",
          "data": {
            "text/plain": [
              "0.69145405"
            ]
          },
          "metadata": {
            "tags": []
          },
          "execution_count": 9
        }
      ]
    },
    {
      "cell_type": "markdown",
      "metadata": {
        "id": "MobctOW3P6nv"
      },
      "source": [
        "# Question 1. \n",
        "\n",
        "What is the dimensionality of these word embeddings? Provide an integer. "
      ]
    },
    {
      "cell_type": "code",
      "metadata": {
        "colab": {
          "base_uri": "https://localhost:8080/"
        },
        "id": "9v6-TCq7PvTf",
        "outputId": "4d6dea7d-ae44-4a82-ab73-fdda00206e14"
      },
      "source": [
        "print(\"There are {} dimensions for these word embeddings\".format(vectors.dim))"
      ],
      "execution_count": 14,
      "outputs": [
        {
          "output_type": "stream",
          "text": [
            "There are 300 dimensions for these word embeddings\n"
          ],
          "name": "stdout"
        }
      ]
    },
    {
      "cell_type": "markdown",
      "metadata": {
        "id": "IlelNnmnRSqQ"
      },
      "source": [
        "# Question 2. \n",
        "\n",
        "What are the top 5 most similar words to picnic (not including picnic itself)? "
      ]
    },
    {
      "cell_type": "code",
      "metadata": {
        "colab": {
          "base_uri": "https://localhost:8080/"
        },
        "id": "OB6F2r6qQTuD",
        "outputId": "c8b511ff-ef36-463d-ad4b-58f721807169"
      },
      "source": [
        "vectors.most_similar(\"picnic\", topn=5)"
      ],
      "execution_count": 27,
      "outputs": [
        {
          "output_type": "execute_result",
          "data": {
            "text/plain": [
              "[('picnics', 0.7400875),\n",
              " ('picnic_lunch', 0.7213739),\n",
              " ('Picnic', 0.700534),\n",
              " ('potluck_picnic', 0.6683274),\n",
              " ('picnic_supper', 0.65189123)]"
            ]
          },
          "metadata": {
            "tags": []
          },
          "execution_count": 27
        }
      ]
    },
    {
      "cell_type": "code",
      "metadata": {
        "colab": {
          "base_uri": "https://localhost:8080/"
        },
        "id": "2s5nM6UeQkOI",
        "outputId": "b7ceab33-82f4-45b6-b2b6-d97beea9ccc5"
      },
      "source": [
        "# Similarly, we could find the top 5 most similar by querying the array embedding itself. \n",
        "# Note that we should exclude the first entry as it is the word \"picnic\" itself. \n",
        "vectors.most_similar(vectors.query(\"picnic\"), topn=6)"
      ],
      "execution_count": 30,
      "outputs": [
        {
          "output_type": "execute_result",
          "data": {
            "text/plain": [
              "[('picnic', 0.9999998),\n",
              " ('picnics', 0.7400875),\n",
              " ('picnic_lunch', 0.7213739),\n",
              " ('Picnic', 0.700534),\n",
              " ('potluck_picnic', 0.6683274),\n",
              " ('picnic_supper', 0.65189123)]"
            ]
          },
          "metadata": {
            "tags": []
          },
          "execution_count": 30
        }
      ]
    },
    {
      "cell_type": "code",
      "metadata": {
        "id": "UE5Aw7LPYT-R"
      },
      "source": [
        "import matplotlib.pyplot as plt\n",
        "sims = []\n",
        "words = []\n",
        "for i in range(10):\n",
        "  _, x = vectors.most_similar(\"picnic\", topn=10)[i]\n",
        "  sims.append(x)\n",
        "  words.append(_)"
      ],
      "execution_count": 53,
      "outputs": []
    },
    {
      "cell_type": "code",
      "metadata": {
        "colab": {
          "base_uri": "https://localhost:8080/",
          "height": 404
        },
        "id": "F6u0C-1iZ8GV",
        "outputId": "7376a6ed-02ec-4727-e06a-5183e751f11b"
      },
      "source": [
        "plt.bar(x=words, height=sims)\n",
        "plt.xticks(rotation=90)\n",
        "plt.title(\"Top 10 Most Similar Words to 'picnic'\")\n",
        "plt.ylabel(\"Similarity\")"
      ],
      "execution_count": 59,
      "outputs": [
        {
          "output_type": "execute_result",
          "data": {
            "text/plain": [
              "Text(0, 0.5, 'Similarity')"
            ]
          },
          "metadata": {
            "tags": []
          },
          "execution_count": 59
        },
        {
          "output_type": "display_data",
          "data": {
            "image/png": "[encoded data removed]",
            "text/plain": [
              "<Figure size 432x288 with 1 Axes>"
            ]
          },
          "metadata": {
            "tags": [],
            "needs_background": "light"
          }
        }
      ]
    },
    {
      "cell_type": "markdown",
      "metadata": {
        "id": "-0C3vxCwTHQF"
      },
      "source": [
        "# Question 3.\n",
        "\n",
        "According to the word embeddings, which of these words is not like the others? ['tissue', 'papyrus', 'manila', 'newsprint', 'parchment', 'gazette']"
      ]
    },
    {
      "cell_type": "code",
      "metadata": {
        "colab": {
          "base_uri": "https://localhost:8080/",
          "height": 35
        },
        "id": "QrYhBH_7RAnb",
        "outputId": "cb1522c1-022b-4d29-8925-6936482e2dcc"
      },
      "source": [
        "vectors.doesnt_match(['tissue', 'papyrus', 'manila', 'newsprint', 'parchment', 'gazette'])"
      ],
      "execution_count": 31,
      "outputs": [
        {
          "output_type": "execute_result",
          "data": {
            "application/vnd.google.colaboratory.intrinsic+json": {
              "type": "string"
            },
            "text/plain": [
              "'tissue'"
            ]
          },
          "metadata": {
            "tags": []
          },
          "execution_count": 31
        }
      ]
    },
    {
      "cell_type": "markdown",
      "metadata": {
        "id": "csYh6KpkiiF9"
      },
      "source": [
        "The above function finds the word that is least like the other words. "
      ]
    },
    {
      "cell_type": "code",
      "metadata": {
        "id": "OuS6oVsuim4m"
      },
      "source": [
        "# Plot the first 2 (of 300) dimensions\n",
        "def plot_2D(words):\n",
        "  \n",
        "  dim1 = []\n",
        "  dim2 = []\n",
        "  for word in words:\n",
        "    dim1.append(vectors.query(word)[0])\n",
        "    dim2.append(vectors.query(word)[1])\n",
        "\n",
        "  plt.scatter(x=dim1, y=dim2)\n",
        "  plt.title(\"First 2 Dimensions\")\n",
        "\n",
        "  for i in range(len(words)):\n",
        "    plt.annotate(words[i],\n",
        "                 (dim1[i],dim2[i]),\n",
        "                 textcoords=\"offset points\",\n",
        "                 xytext=(0,10),\n",
        "                 ha='center')\n"
      ],
      "execution_count": 73,
      "outputs": []
    },
    {
      "cell_type": "code",
      "metadata": {
        "colab": {
          "base_uri": "https://localhost:8080/",
          "height": 281
        },
        "id": "EZD-DNzVi6tl",
        "outputId": "0e5f9fcc-b5df-45cf-f7bc-9c08aa60f8c7"
      },
      "source": [
        "plot_2D(words=['tissue', 'papyrus', 'manila', 'newsprint', 'parchment', 'gazette'])"
      ],
      "execution_count": 74,
      "outputs": [
        {
          "output_type": "display_data",
          "data": {
            "image/png": "[encoded data removed]",
            "text/plain": [
              "<Figure size 432x288 with 1 Axes>"
            ]
          },
          "metadata": {
            "tags": [],
            "needs_background": "light"
          }
        }
      ]
    },
    {
      "cell_type": "markdown",
      "metadata": {
        "id": "hS16tFHtnSmE"
      },
      "source": [
        "While the above plot may not truly be meaningful because it only depicts 2 of the 300 dimensions, it nontheless shows how that even in just these 2 dimensions, tissues is far from the other words. It would be more helpful if we used PCA or t-SNE to actually reduce the dimensions of all the words in the vocabular and then plot these words. "
      ]
    },
    {
      "cell_type": "markdown",
      "metadata": {
        "id": "O0AZFJHBTyFS"
      },
      "source": [
        "# Question 4.\n",
        "\n",
        "Solve the following analogy. Leg is to jump as X is to throw. "
      ]
    },
    {
      "cell_type": "code",
      "metadata": {
        "colab": {
          "base_uri": "https://localhost:8080/"
        },
        "id": "WmuPFMHgVCZL",
        "outputId": "3cb1b12f-18bc-43b9-bde0-d6f760075320"
      },
      "source": [
        "vectors.most_similar(positive=['leg', 'throw'], negative=['jump'], topn=1)"
      ],
      "execution_count": 37,
      "outputs": [
        {
          "output_type": "execute_result",
          "data": {
            "text/plain": [
              "[('forearm', 0.48294652)]"
            ]
          },
          "metadata": {
            "tags": []
          },
          "execution_count": 37
        }
      ]
    },
    {
      "cell_type": "markdown",
      "metadata": {
        "id": "vYSBZxN9a9l1"
      },
      "source": [
        "The analogy in the above goes: What is to a \"throw\" that a \"leg\" is to a \"jump\", i.e. leg + throw - jump = ?\n",
        "\n",
        "In this case, according to these embeddings, the best word to complete this analogy is \"forearm\". "
      ]
    },
    {
      "cell_type": "code",
      "metadata": {
        "id": "lVOR4LejYD2z"
      },
      "source": [
        ""
      ],
      "execution_count": null,
      "outputs": []
    }
  ]
}