{
  "nbformat": 4,
  "nbformat_minor": 0,
  "metadata": {
    "colab": {
      "name": "Luxenberg_HW2.ipynb",
      "provenance": [],
      "collapsed_sections": [],
      "authorship_tag": "ABX9TyOYCbKDx40gi064k48tqm5r",
      "include_colab_link": true
    },
    "kernelspec": {
      "name": "python3",
      "display_name": "Python 3"
    },
    "accelerator": "GPU"
  },
  "cells": [
    {
      "cell_type": "markdown",
      "metadata": {
        "id": "view-in-github",
        "colab_type": "text"
      },
      "source": [
        "<a href=\"https://colab.research.google.com/github/lux-gw/STAT-6289---Deep-Learning/blob/master/Luxenberg_HW2.ipynb\" target=\"_parent\"><img src=\"https://colab.research.google.com/assets/colab-badge.svg\" alt=\"Open In Colab\"/></a>"
      ]
    },
    {
      "cell_type": "markdown",
      "metadata": {
        "id": "tA40pseddRRn"
      },
      "source": [
        "# CNN for CIFAR-10\n"
      ]
    },
    {
      "cell_type": "code",
      "metadata": {
        "id": "ecapjWGIhdGK",
        "outputId": "20625b51-3b26-415a-bc29-de0793eb7289",
        "colab": {
          "base_uri": "https://localhost:8080/",
          "height": 34
        }
      },
      "source": [
        "from google.colab import drive\n",
        "drive.mount('/content/gdrive')"
      ],
      "execution_count": 20,
      "outputs": [
        {
          "output_type": "stream",
          "text": [
            "Mounted at /content/gdrive\n"
          ],
          "name": "stdout"
        }
      ]
    },
    {
      "cell_type": "code",
      "metadata": {
        "id": "k0SnFB8wdLMm"
      },
      "source": [
        "# Homework 2 - STAT 6289 - Deep Learning\n",
        "\n",
        "# Train a simple CNN\n",
        "from __future__ import print_function\n",
        "import keras\n",
        "from keras.datasets import cifar10\n",
        "from keras.preprocessing.image import ImageDataGenerator\n",
        "from keras.models import Sequential\n",
        "from keras.layers import Dense, Dropout, Activation, Flatten\n",
        "from keras.layers import Conv2D, MaxPooling2D\n",
        "import os"
      ],
      "execution_count": 3,
      "outputs": []
    },
    {
      "cell_type": "code",
      "metadata": {
        "id": "8HWFOFVHiNGD",
        "outputId": "419a1f0d-9940-43c9-ead1-4921f3b62218",
        "colab": {
          "base_uri": "https://localhost:8080/",
          "height": 50
        }
      },
      "source": [
        "print(os.getcwd())\n",
        "os.chdir('drive/My Drive/Colab Notebooks')\n",
        "print(os.getcwd())"
      ],
      "execution_count": 23,
      "outputs": [
        {
          "output_type": "stream",
          "text": [
            "/content\n",
            "/content/drive/My Drive/Colab Notebooks\n"
          ],
          "name": "stdout"
        }
      ]
    },
    {
      "cell_type": "markdown",
      "metadata": {
        "id": "5jVInVXldExg"
      },
      "source": [
        "## Network Parameters"
      ]
    },
    {
      "cell_type": "code",
      "metadata": {
        "id": "JZJMjez-b90L"
      },
      "source": [
        "batch_size = 32\n",
        "num_classes = 10\n",
        "epochs = 10 # changed from 100\n",
        "data_augmentation = True\n",
        "num_predictions = 20\n",
        "save_dir = os.path.join(os.getcwd(), 'saved_models')\n",
        "model_name = 'keras_cifar10_trained_model.h5'"
      ],
      "execution_count": 87,
      "outputs": []
    },
    {
      "cell_type": "markdown",
      "metadata": {
        "id": "pjpaJTcId5Ef"
      },
      "source": [
        "## Data Preparation"
      ]
    },
    {
      "cell_type": "code",
      "metadata": {
        "id": "BWP2FClbcJ3D",
        "outputId": "27b862c4-1f51-4e62-e499-372ee4938499",
        "colab": {
          "base_uri": "https://localhost:8080/",
          "height": 67
        }
      },
      "source": [
        "# The data, split between train and test sets:\n",
        "(x_train, y_train), (x_test, y_test) = cifar10.load_data()\n",
        "print('x_train shape:', x_train.shape)\n",
        "print(x_train.shape[0], 'train samples')\n",
        "print(x_test.shape[0], 'test samples')"
      ],
      "execution_count": 12,
      "outputs": [
        {
          "output_type": "stream",
          "text": [
            "x_train shape: (50000, 32, 32, 3)\n",
            "50000 train samples\n",
            "10000 test samples\n"
          ],
          "name": "stdout"
        }
      ]
    },
    {
      "cell_type": "code",
      "metadata": {
        "id": "7O8hBAbreGwe",
        "outputId": "731d4821-a806-4cc8-e2ca-6512373eac7f",
        "colab": {
          "base_uri": "https://localhost:8080/",
          "height": 151
        }
      },
      "source": [
        "print(y_train.shape)\n",
        "print(y_train)"
      ],
      "execution_count": 13,
      "outputs": [
        {
          "output_type": "stream",
          "text": [
            "(50000, 1)\n",
            "[[6]\n",
            " [9]\n",
            " [9]\n",
            " ...\n",
            " [9]\n",
            " [1]\n",
            " [1]]\n"
          ],
          "name": "stdout"
        }
      ]
    },
    {
      "cell_type": "code",
      "metadata": {
        "id": "siMlWYaGcMuE"
      },
      "source": [
        "# Convert class vectors to binary class matrices.\n",
        "y_train = keras.utils.to_categorical(y_train, num_classes)\n",
        "y_test = keras.utils.to_categorical(y_test, num_classes)"
      ],
      "execution_count": 14,
      "outputs": []
    },
    {
      "cell_type": "code",
      "metadata": {
        "id": "yUJFqRK2ePgy",
        "outputId": "f2d41a64-819f-44ef-abd7-88c1fcac0f33",
        "colab": {
          "base_uri": "https://localhost:8080/",
          "height": 34
        }
      },
      "source": [
        "y_train.shape"
      ],
      "execution_count": 15,
      "outputs": [
        {
          "output_type": "execute_result",
          "data": {
            "text/plain": [
              "(50000, 10)"
            ]
          },
          "metadata": {
            "tags": []
          },
          "execution_count": 15
        }
      ]
    },
    {
      "cell_type": "markdown",
      "metadata": {
        "id": "OYQRwD2xerhp"
      },
      "source": [
        "## Build Model"
      ]
    },
    {
      "cell_type": "code",
      "metadata": {
        "id": "Ym8LCyzcexPy"
      },
      "source": [
        "model = Sequential()\n",
        "model.add(Conv2D(32, (3, 3), padding='same',\n",
        "                 input_shape=x_train.shape[1:]))\n",
        "model.add(Activation('relu'))\n",
        "model.add(Conv2D(32, (3, 3)))\n",
        "model.add(Activation('relu'))\n",
        "model.add(MaxPooling2D(pool_size=(2, 2)))\n",
        "model.add(Dropout(0.5))\n",
        "\n",
        "model.add(Conv2D(64, (3, 3), padding='same'))\n",
        "model.add(Activation('relu'))\n",
        "model.add(Conv2D(64, (3, 3)))\n",
        "model.add(Activation('relu'))\n",
        "model.add(MaxPooling2D(pool_size=(2, 2)))\n",
        "model.add(Dropout(0.5))\n",
        "\n",
        "model.add(Flatten())\n",
        "model.add(Dense(512))\n",
        "model.add(Activation('relu'))\n",
        "model.add(Dropout(0.5))\n",
        "model.add(Dense(num_classes))\n",
        "model.add(Activation('softmax'))\n",
        "\n",
        "# initiate RMSprop optimizer\n",
        "opt = keras.optimizers.RMSprop(learning_rate=0.0001, decay=1e-6)\n",
        "\n",
        "# Let's train the model using RMSprop\n",
        "model.compile(loss='categorical_crossentropy',\n",
        "              optimizer=opt,\n",
        "              metrics=['accuracy'])"
      ],
      "execution_count": 85,
      "outputs": []
    },
    {
      "cell_type": "code",
      "metadata": {
        "id": "FAZucMMJghSh"
      },
      "source": [
        "x_train = x_train.astype('float32')\n",
        "x_test = x_test.astype('float32')\n",
        "x_train /= 255\n",
        "x_test /= 255"
      ],
      "execution_count": 18,
      "outputs": []
    },
    {
      "cell_type": "code",
      "metadata": {
        "id": "wcffS61ggt30",
        "outputId": "f4fd360f-52f1-4107-e892-7dd905c6186c",
        "colab": {
          "base_uri": "https://localhost:8080/",
          "height": 370
        }
      },
      "source": [
        "if not data_augmentation:\n",
        "    print('Not using data augmentation.')\n",
        "    model.fit(x_train, y_train,\n",
        "              batch_size=batch_size,\n",
        "              epochs=epochs,\n",
        "              validation_data=(x_test, y_test),\n",
        "              shuffle=True)\n",
        "else:\n",
        "    print('Using real-time data augmentation.')\n",
        "    # This will do preprocessing and realtime data augmentation:\n",
        "    datagen = ImageDataGenerator(\n",
        "        featurewise_center=False,  # set input mean to 0 over the dataset\n",
        "        samplewise_center=False,  # set each sample mean to 0\n",
        "        featurewise_std_normalization=False,  # divide inputs by std of the dataset\n",
        "        samplewise_std_normalization=False,  # divide each input by its std\n",
        "        zca_whitening=False,  # apply ZCA whitening\n",
        "        zca_epsilon=1e-06,  # epsilon for ZCA whitening\n",
        "        rotation_range=0,  # randomly rotate images in the range (degrees, 0 to 180)\n",
        "        # randomly shift images horizontally (fraction of total width)\n",
        "        width_shift_range=0.1,\n",
        "        # randomly shift images vertically (fraction of total height)\n",
        "        height_shift_range=0.1,\n",
        "        shear_range=0.,  # set range for random shear\n",
        "        zoom_range=0.,  # set range for random zoom\n",
        "        channel_shift_range=0.,  # set range for random channel shifts\n",
        "        # set mode for filling points outside the input boundaries\n",
        "        fill_mode='nearest',\n",
        "        cval=0.,  # value used for fill_mode = \"constant\"\n",
        "        horizontal_flip=True,  # randomly flip images\n",
        "        vertical_flip=False,  # randomly flip images\n",
        "        # set rescaling factor (applied before any other transformation)\n",
        "        rescale=None,\n",
        "        # set function that will be applied on each input\n",
        "        preprocessing_function=None,\n",
        "        # image data format, either \"channels_first\" or \"channels_last\"\n",
        "        data_format=None,\n",
        "        # fraction of images reserved for validation (strictly between 0 and 1)\n",
        "        validation_split=0.0)\n",
        "\n",
        "    # Compute quantities required for feature-wise normalization\n",
        "    # (std, mean, and principal components if ZCA whitening is applied).\n",
        "    datagen.fit(x_train)\n",
        "\n",
        "    # Fit the model on the batches generated by datagen.flow().\n",
        "    history_cnn = model.fit_generator(datagen.flow(x_train, y_train,\n",
        "                                     batch_size=batch_size),\n",
        "                        epochs=epochs,\n",
        "                        validation_data=(x_test, y_test),\n",
        "                        workers=4)"
      ],
      "execution_count": 88,
      "outputs": [
        {
          "output_type": "stream",
          "text": [
            "Using real-time data augmentation.\n",
            "Epoch 1/10\n",
            "1563/1563 [==============================] - 33s 21ms/step - loss: 2.1546 - accuracy: 0.2028 - val_loss: 2.0250 - val_accuracy: 0.2616\n",
            "Epoch 2/10\n",
            "1563/1563 [==============================] - 34s 22ms/step - loss: 2.0373 - accuracy: 0.2517 - val_loss: 1.9437 - val_accuracy: 0.2990\n",
            "Epoch 3/10\n",
            "1563/1563 [==============================] - 34s 22ms/step - loss: 2.0013 - accuracy: 0.2639 - val_loss: 2.0301 - val_accuracy: 0.2628\n",
            "Epoch 4/10\n",
            "1563/1563 [==============================] - 34s 22ms/step - loss: 1.9689 - accuracy: 0.2797 - val_loss: 1.8841 - val_accuracy: 0.3178\n",
            "Epoch 5/10\n",
            "1563/1563 [==============================] - 34s 22ms/step - loss: 1.9202 - accuracy: 0.2976 - val_loss: 1.8450 - val_accuracy: 0.3414\n",
            "Epoch 6/10\n",
            "1563/1563 [==============================] - 35s 22ms/step - loss: 1.8586 - accuracy: 0.3269 - val_loss: 1.7884 - val_accuracy: 0.3605\n",
            "Epoch 7/10\n",
            "1563/1563 [==============================] - 34s 22ms/step - loss: 1.7922 - accuracy: 0.3523 - val_loss: 1.6783 - val_accuracy: 0.4011\n",
            "Epoch 8/10\n",
            "1563/1563 [==============================] - 35s 22ms/step - loss: 1.7400 - accuracy: 0.3709 - val_loss: 1.5982 - val_accuracy: 0.4269\n",
            "Epoch 9/10\n",
            "1563/1563 [==============================] - 34s 22ms/step - loss: 1.7047 - accuracy: 0.3855 - val_loss: 1.5999 - val_accuracy: 0.4334\n",
            "Epoch 10/10\n",
            "1563/1563 [==============================] - 34s 21ms/step - loss: 1.6698 - accuracy: 0.3989 - val_loss: 1.5105 - val_accuracy: 0.4625\n"
          ],
          "name": "stdout"
        }
      ]
    },
    {
      "cell_type": "code",
      "metadata": {
        "id": "M2I1ajzmiuXS",
        "outputId": "59e34e9d-5828-4d40-932a-c19a2f69a8e4",
        "colab": {
          "base_uri": "https://localhost:8080/",
          "height": 34
        }
      },
      "source": [
        "# Save model and weights\n",
        "model_name = 'keras_cifar10_trained_model.h5'\n",
        "if not os.path.isdir(save_dir):\n",
        "    os.makedirs(save_dir)\n",
        "model_path = os.path.join(save_dir, model_name)\n",
        "model.save(model_path)\n",
        "print('Saved trained model at %s ' % model_path)\n"
      ],
      "execution_count": 89,
      "outputs": [
        {
          "output_type": "stream",
          "text": [
            "Saved trained model at /content/drive/My Drive/Colab Notebooks/saved_models/keras_cifar10_trained_model.h5 \n"
          ],
          "name": "stdout"
        }
      ]
    },
    {
      "cell_type": "markdown",
      "metadata": {
        "id": "m296RQQAi4af"
      },
      "source": [
        "## Evaluate Model"
      ]
    },
    {
      "cell_type": "code",
      "metadata": {
        "id": "EEFPhukQiyMy",
        "outputId": "3c4ee543-3819-4a0e-cddc-6ccf712871e9",
        "colab": {
          "base_uri": "https://localhost:8080/",
          "height": 67
        }
      },
      "source": [
        "# Score trained model.\n",
        "scores = model.evaluate(x_test, y_test, verbose=1)\n",
        "print('Test loss:', scores[0])\n",
        "print('Test accuracy:', scores[1])"
      ],
      "execution_count": 90,
      "outputs": [
        {
          "output_type": "stream",
          "text": [
            "313/313 [==============================] - 1s 3ms/step - loss: 1.5105 - accuracy: 0.4625\n",
            "Test loss: 1.510535717010498\n",
            "Test accuracy: 0.4625000059604645\n"
          ],
          "name": "stdout"
        }
      ]
    },
    {
      "cell_type": "markdown",
      "metadata": {
        "id": "p_941A9UlYkT"
      },
      "source": [
        "# Question 1\n",
        "Compare the accuracy of the CNN above to the accuracy of simple dense neural networks with 0, 1, 2, 3, and 4 hidden layers of 512 rectified linear units each. Modify the CNN code above to obtain simple dense neural networks with 0, 1, 2, 3, and 4 hidden layers of 512 rectified linear units (with a dropout rate of 0.5). Produce a graph that contains 6 curves (one for the CNN and one for each dense neural net of 0-4 hidden layers). The y-axis is the test (validation) accuracy and the x-axis is the number of epochs (# of passes through the training set). Produce curves for the first 10 epochs. Although 10 epochs is not sufficient to reach convergence, it is sufficient to see the trend. Explain the results (i.e. why some models perform better or worse than other models). "
      ]
    },
    {
      "cell_type": "code",
      "metadata": {
        "id": "1Gfr4Wx6vzgY",
        "outputId": "5787385b-7daa-4de7-f5ae-93e55da47ec5",
        "colab": {
          "base_uri": "https://localhost:8080/",
          "height": 370
        }
      },
      "source": [
        "# Dense Neural Network with 0 hidden layers\n",
        "model_dense0 = Sequential()\n",
        "model_dense0.add(Flatten())\n",
        "model_dense0.add(Dense(num_classes))\n",
        "model_dense0.add(Activation('softmax'))\n",
        "\n",
        "\n",
        "# initiate RMSprop optimizer\n",
        "opt = keras.optimizers.RMSprop(learning_rate=0.0001, decay=1e-6)\n",
        "\n",
        "# Let's train the model using RMSprop\n",
        "model_dense0.compile(loss='categorical_crossentropy',\n",
        "              optimizer=opt,\n",
        "              metrics=['accuracy'])\n",
        "\n",
        "if not data_augmentation:\n",
        "    print('Not using data augmentation.')\n",
        "    model_dense0.fit(x_train, y_train,\n",
        "              batch_size=batch_size,\n",
        "              epochs=epochs,\n",
        "              validation_data=(x_test, y_test),\n",
        "              shuffle=True)\n",
        "else:\n",
        "    print('Using real-time data augmentation.')\n",
        "    # This will do preprocessing and realtime data augmentation:\n",
        "    datagen = ImageDataGenerator(\n",
        "        featurewise_center=False,  # set input mean to 0 over the dataset\n",
        "        samplewise_center=False,  # set each sample mean to 0\n",
        "        featurewise_std_normalization=False,  # divide inputs by std of the dataset\n",
        "        samplewise_std_normalization=False,  # divide each input by its std\n",
        "        zca_whitening=False,  # apply ZCA whitening\n",
        "        zca_epsilon=1e-06,  # epsilon for ZCA whitening\n",
        "        rotation_range=0,  # randomly rotate images in the range (degrees, 0 to 180)\n",
        "        # randomly shift images horizontally (fraction of total width)\n",
        "        width_shift_range=0.1,\n",
        "        # randomly shift images vertically (fraction of total height)\n",
        "        height_shift_range=0.1,\n",
        "        shear_range=0.,  # set range for random shear\n",
        "        zoom_range=0.,  # set range for random zoom\n",
        "        channel_shift_range=0.,  # set range for random channel shifts\n",
        "        # set mode for filling points outside the input boundaries\n",
        "        fill_mode='nearest',\n",
        "        cval=0.,  # value used for fill_mode = \"constant\"\n",
        "        horizontal_flip=True,  # randomly flip images\n",
        "        vertical_flip=False,  # randomly flip images\n",
        "        # set rescaling factor (applied before any other transformation)\n",
        "        rescale=None,\n",
        "        # set function that will be applied on each input\n",
        "        preprocessing_function=None,\n",
        "        # image data format, either \"channels_first\" or \"channels_last\"\n",
        "        data_format=None,\n",
        "        # fraction of images reserved for validation (strictly between 0 and 1)\n",
        "        validation_split=0.0)\n",
        "\n",
        "    # Compute quantities required for feature-wise normalization\n",
        "    # (std, mean, and principal components if ZCA whitening is applied).\n",
        "    datagen.fit(x_train)\n",
        "\n",
        "    # Fit the model on the batches generated by datagen.flow().\n",
        "    history_dense0 = model_dense0.fit_generator(datagen.flow(x_train, y_train,\n",
        "                                     batch_size=batch_size),\n",
        "                        epochs=epochs,\n",
        "                        validation_data=(x_test, y_test),\n",
        "                        workers=4)"
      ],
      "execution_count": 43,
      "outputs": [
        {
          "output_type": "stream",
          "text": [
            "Using real-time data augmentation.\n",
            "Epoch 1/10\n",
            "1563/1563 [==============================] - 32s 21ms/step - loss: 2.2931 - accuracy: 0.1056 - val_loss: 2.2839 - val_accuracy: 0.1035\n",
            "Epoch 2/10\n",
            "1563/1563 [==============================] - 32s 21ms/step - loss: 2.2773 - accuracy: 0.1173 - val_loss: 2.2685 - val_accuracy: 0.1412\n",
            "Epoch 3/10\n",
            "1563/1563 [==============================] - 32s 21ms/step - loss: 2.2632 - accuracy: 0.1523 - val_loss: 2.2544 - val_accuracy: 0.1864\n",
            "Epoch 4/10\n",
            "1563/1563 [==============================] - 32s 20ms/step - loss: 2.2498 - accuracy: 0.1936 - val_loss: 2.2408 - val_accuracy: 0.2122\n",
            "Epoch 5/10\n",
            "1563/1563 [==============================] - 32s 21ms/step - loss: 2.2372 - accuracy: 0.2120 - val_loss: 2.2282 - val_accuracy: 0.2388\n",
            "Epoch 6/10\n",
            "1563/1563 [==============================] - 32s 21ms/step - loss: 2.2256 - accuracy: 0.2358 - val_loss: 2.2163 - val_accuracy: 0.2412\n",
            "Epoch 7/10\n",
            "1563/1563 [==============================] - 32s 21ms/step - loss: 2.2145 - accuracy: 0.2450 - val_loss: 2.2050 - val_accuracy: 0.2471\n",
            "Epoch 8/10\n",
            "1563/1563 [==============================] - 33s 21ms/step - loss: 2.2042 - accuracy: 0.2463 - val_loss: 2.1945 - val_accuracy: 0.2627\n",
            "Epoch 9/10\n",
            "1563/1563 [==============================] - 33s 21ms/step - loss: 2.1946 - accuracy: 0.2608 - val_loss: 2.1845 - val_accuracy: 0.2654\n",
            "Epoch 10/10\n",
            "1563/1563 [==============================] - 32s 20ms/step - loss: 2.1853 - accuracy: 0.2598 - val_loss: 2.1752 - val_accuracy: 0.2769\n"
          ],
          "name": "stdout"
        }
      ]
    },
    {
      "cell_type": "code",
      "metadata": {
        "id": "q20JT93WxQ2J",
        "outputId": "16355d39-a726-4b23-848b-04dae24f7619",
        "colab": {
          "base_uri": "https://localhost:8080/",
          "height": 67
        }
      },
      "source": [
        "scores = model_dense0.evaluate(x_test, y_test, verbose=1)\n",
        "print('Test loss:', scores[0])\n",
        "print('Test accuracy:', scores[1])"
      ],
      "execution_count": 44,
      "outputs": [
        {
          "output_type": "stream",
          "text": [
            "313/313 [==============================] - 1s 2ms/step - loss: 2.1752 - accuracy: 0.2769\n",
            "Test loss: 2.175170421600342\n",
            "Test accuracy: 0.2768999934196472\n"
          ],
          "name": "stdout"
        }
      ]
    },
    {
      "cell_type": "code",
      "metadata": {
        "id": "S_zuq2VnmznD",
        "outputId": "f627e6d2-eabf-4936-a952-4e689d0437fd",
        "colab": {
          "base_uri": "https://localhost:8080/",
          "height": 370
        }
      },
      "source": [
        "# Dense Neural Network with 1 hidden layer\n",
        "model_dense1 = Sequential()\n",
        "model_dense1.add(Flatten())\n",
        "model_dense1.add(Dense(512))\n",
        "model_dense1.add(Activation('relu'))\n",
        "model_dense1.add(Dropout(0.5))\n",
        "model_dense1.add(Dense(num_classes))\n",
        "model_dense1.add(Activation('softmax'))\n",
        "\n",
        "\n",
        "# initiate RMSprop optimizer\n",
        "opt = keras.optimizers.RMSprop(learning_rate=0.0001, decay=1e-6)\n",
        "\n",
        "# Let's train the model using RMSprop\n",
        "model_dense1.compile(loss='categorical_crossentropy',\n",
        "              optimizer=opt,\n",
        "              metrics=['accuracy'])\n",
        "\n",
        "if not data_augmentation:\n",
        "    print('Not using data augmentation.')\n",
        "    model_dense1.fit(x_train, y_train,\n",
        "              batch_size=batch_size,\n",
        "              epochs=epochs,\n",
        "              validation_data=(x_test, y_test),\n",
        "              shuffle=True)\n",
        "else:\n",
        "    print('Using real-time data augmentation.')\n",
        "    # This will do preprocessing and realtime data augmentation:\n",
        "    datagen = ImageDataGenerator(\n",
        "        featurewise_center=False,  # set input mean to 0 over the dataset\n",
        "        samplewise_center=False,  # set each sample mean to 0\n",
        "        featurewise_std_normalization=False,  # divide inputs by std of the dataset\n",
        "        samplewise_std_normalization=False,  # divide each input by its std\n",
        "        zca_whitening=False,  # apply ZCA whitening\n",
        "        zca_epsilon=1e-06,  # epsilon for ZCA whitening\n",
        "        rotation_range=0,  # randomly rotate images in the range (degrees, 0 to 180)\n",
        "        # randomly shift images horizontally (fraction of total width)\n",
        "        width_shift_range=0.1,\n",
        "        # randomly shift images vertically (fraction of total height)\n",
        "        height_shift_range=0.1,\n",
        "        shear_range=0.,  # set range for random shear\n",
        "        zoom_range=0.,  # set range for random zoom\n",
        "        channel_shift_range=0.,  # set range for random channel shifts\n",
        "        # set mode for filling points outside the input boundaries\n",
        "        fill_mode='nearest',\n",
        "        cval=0.,  # value used for fill_mode = \"constant\"\n",
        "        horizontal_flip=True,  # randomly flip images\n",
        "        vertical_flip=False,  # randomly flip images\n",
        "        # set rescaling factor (applied before any other transformation)\n",
        "        rescale=None,\n",
        "        # set function that will be applied on each input\n",
        "        preprocessing_function=None,\n",
        "        # image data format, either \"channels_first\" or \"channels_last\"\n",
        "        data_format=None,\n",
        "        # fraction of images reserved for validation (strictly between 0 and 1)\n",
        "        validation_split=0.0)\n",
        "\n",
        "    # Compute quantities required for feature-wise normalization\n",
        "    # (std, mean, and principal components if ZCA whitening is applied).\n",
        "    datagen.fit(x_train)\n",
        "\n",
        "    # Fit the model on the batches generated by datagen.flow().\n",
        "    history_dense1 = model_dense1.fit_generator(datagen.flow(x_train, y_train,\n",
        "                                     batch_size=batch_size),\n",
        "                        epochs=epochs,\n",
        "                        validation_data=(x_test, y_test),\n",
        "                        workers=4)"
      ],
      "execution_count": 45,
      "outputs": [
        {
          "output_type": "stream",
          "text": [
            "Using real-time data augmentation.\n",
            "Epoch 1/10\n",
            "1563/1563 [==============================] - 33s 21ms/step - loss: 2.2480 - accuracy: 0.1862 - val_loss: 2.1751 - val_accuracy: 0.2324\n",
            "Epoch 2/10\n",
            "1563/1563 [==============================] - 33s 21ms/step - loss: 2.1279 - accuracy: 0.2493 - val_loss: 2.0697 - val_accuracy: 0.2805\n",
            "Epoch 3/10\n",
            "1563/1563 [==============================] - 33s 21ms/step - loss: 2.0579 - accuracy: 0.2667 - val_loss: 2.0128 - val_accuracy: 0.2932\n",
            "Epoch 4/10\n",
            "1563/1563 [==============================] - 33s 21ms/step - loss: 2.0199 - accuracy: 0.2776 - val_loss: 1.9772 - val_accuracy: 0.3004\n",
            "Epoch 5/10\n",
            "1563/1563 [==============================] - 33s 21ms/step - loss: 1.9916 - accuracy: 0.2864 - val_loss: 1.9493 - val_accuracy: 0.3093\n",
            "Epoch 6/10\n",
            "1563/1563 [==============================] - 33s 21ms/step - loss: 1.9744 - accuracy: 0.2939 - val_loss: 1.9304 - val_accuracy: 0.3203\n",
            "Epoch 7/10\n",
            "1563/1563 [==============================] - 33s 21ms/step - loss: 1.9592 - accuracy: 0.2990 - val_loss: 1.9138 - val_accuracy: 0.3255\n",
            "Epoch 8/10\n",
            "1563/1563 [==============================] - 34s 22ms/step - loss: 1.9454 - accuracy: 0.3062 - val_loss: 1.8998 - val_accuracy: 0.3287\n",
            "Epoch 9/10\n",
            "1563/1563 [==============================] - 33s 21ms/step - loss: 1.9333 - accuracy: 0.3121 - val_loss: 1.8877 - val_accuracy: 0.3333\n",
            "Epoch 10/10\n",
            "1563/1563 [==============================] - 33s 21ms/step - loss: 1.9234 - accuracy: 0.3160 - val_loss: 1.8758 - val_accuracy: 0.3401\n"
          ],
          "name": "stdout"
        }
      ]
    },
    {
      "cell_type": "code",
      "metadata": {
        "id": "W7P2UdB7xa2s",
        "outputId": "3b53052f-1d9e-4c23-d0bd-8b79a2f7ff50",
        "colab": {
          "base_uri": "https://localhost:8080/",
          "height": 67
        }
      },
      "source": [
        "scores = model_dense1.evaluate(x_test, y_test, verbose=1)\n",
        "print('Test loss:', scores[0])\n",
        "print('Test accuracy:', scores[1])"
      ],
      "execution_count": 46,
      "outputs": [
        {
          "output_type": "stream",
          "text": [
            "313/313 [==============================] - 1s 2ms/step - loss: 1.8758 - accuracy: 0.3401\n",
            "Test loss: 1.8758330345153809\n",
            "Test accuracy: 0.3400999903678894\n"
          ],
          "name": "stdout"
        }
      ]
    },
    {
      "cell_type": "code",
      "metadata": {
        "id": "WzWiU038q3nJ",
        "outputId": "d1049cbd-e120-4d0f-d0b1-da83bf51f1d7",
        "colab": {
          "base_uri": "https://localhost:8080/",
          "height": 370
        }
      },
      "source": [
        "# Dense Neural Network with 2 hidden layers\n",
        "model_dense2 = Sequential()\n",
        "model_dense2.add(Flatten())\n",
        "model_dense2.add(Dense(512))\n",
        "model_dense2.add(Activation('relu'))\n",
        "model_dense2.add(Dropout(0.5))\n",
        "model_dense2.add(Dense(512))\n",
        "model_dense2.add(Activation('relu'))\n",
        "model_dense2.add(Dropout(0.5))\n",
        "model_dense2.add(Dense(num_classes))\n",
        "model_dense2.add(Activation('softmax'))\n",
        "\n",
        "\n",
        "# initiate RMSprop optimizer\n",
        "opt = keras.optimizers.RMSprop(learning_rate=0.0001, decay=1e-6)\n",
        "\n",
        "# Let's train the model using RMSprop\n",
        "model_dense2.compile(loss='categorical_crossentropy',\n",
        "              optimizer=opt,\n",
        "              metrics=['accuracy'])\n",
        "\n",
        "if not data_augmentation:\n",
        "    print('Not using data augmentation.')\n",
        "    model_dense2.fit(x_train, y_train,\n",
        "              batch_size=batch_size,\n",
        "              epochs=epochs,\n",
        "              validation_data=(x_test, y_test),\n",
        "              shuffle=True)\n",
        "else:\n",
        "    print('Using real-time data augmentation.')\n",
        "    # This will do preprocessing and realtime data augmentation:\n",
        "    datagen = ImageDataGenerator(\n",
        "        featurewise_center=False,  # set input mean to 0 over the dataset\n",
        "        samplewise_center=False,  # set each sample mean to 0\n",
        "        featurewise_std_normalization=False,  # divide inputs by std of the dataset\n",
        "        samplewise_std_normalization=False,  # divide each input by its std\n",
        "        zca_whitening=False,  # apply ZCA whitening\n",
        "        zca_epsilon=1e-06,  # epsilon for ZCA whitening\n",
        "        rotation_range=0,  # randomly rotate images in the range (degrees, 0 to 180)\n",
        "        # randomly shift images horizontally (fraction of total width)\n",
        "        width_shift_range=0.1,\n",
        "        # randomly shift images vertically (fraction of total height)\n",
        "        height_shift_range=0.1,\n",
        "        shear_range=0.,  # set range for random shear\n",
        "        zoom_range=0.,  # set range for random zoom\n",
        "        channel_shift_range=0.,  # set range for random channel shifts\n",
        "        # set mode for filling points outside the input boundaries\n",
        "        fill_mode='nearest',\n",
        "        cval=0.,  # value used for fill_mode = \"constant\"\n",
        "        horizontal_flip=True,  # randomly flip images\n",
        "        vertical_flip=False,  # randomly flip images\n",
        "        # set rescaling factor (applied before any other transformation)\n",
        "        rescale=None,\n",
        "        # set function that will be applied on each input\n",
        "        preprocessing_function=None,\n",
        "        # image data format, either \"channels_first\" or \"channels_last\"\n",
        "        data_format=None,\n",
        "        # fraction of images reserved for validation (strictly between 0 and 1)\n",
        "        validation_split=0.0)\n",
        "\n",
        "    # Compute quantities required for feature-wise normalization\n",
        "    # (std, mean, and principal components if ZCA whitening is applied).\n",
        "    datagen.fit(x_train)\n",
        "\n",
        "    # Fit the model on the batches generated by datagen.flow().\n",
        "    history_dense2 = model_dense2.fit_generator(datagen.flow(x_train, y_train,\n",
        "                                     batch_size=batch_size),\n",
        "                        epochs=epochs,\n",
        "                        validation_data=(x_test, y_test),\n",
        "                        workers=4)"
      ],
      "execution_count": 47,
      "outputs": [
        {
          "output_type": "stream",
          "text": [
            "Using real-time data augmentation.\n",
            "Epoch 1/10\n",
            "1563/1563 [==============================] - 33s 21ms/step - loss: 2.1886 - accuracy: 0.1692 - val_loss: 2.0669 - val_accuracy: 0.2439\n",
            "Epoch 2/10\n",
            "1563/1563 [==============================] - 33s 21ms/step - loss: 2.0527 - accuracy: 0.2371 - val_loss: 1.9944 - val_accuracy: 0.2707\n",
            "Epoch 3/10\n",
            "1563/1563 [==============================] - 33s 21ms/step - loss: 1.9950 - accuracy: 0.2679 - val_loss: 1.9331 - val_accuracy: 0.2991\n",
            "Epoch 4/10\n",
            "1563/1563 [==============================] - 33s 21ms/step - loss: 1.9590 - accuracy: 0.2861 - val_loss: 1.8931 - val_accuracy: 0.3201\n",
            "Epoch 5/10\n",
            "1563/1563 [==============================] - 33s 21ms/step - loss: 1.9297 - accuracy: 0.3012 - val_loss: 1.8630 - val_accuracy: 0.3303\n",
            "Epoch 6/10\n",
            "1563/1563 [==============================] - 33s 21ms/step - loss: 1.9042 - accuracy: 0.3122 - val_loss: 1.8309 - val_accuracy: 0.3454\n",
            "Epoch 7/10\n",
            "1563/1563 [==============================] - 34s 22ms/step - loss: 1.8781 - accuracy: 0.3221 - val_loss: 1.7989 - val_accuracy: 0.3594\n",
            "Epoch 8/10\n",
            "1563/1563 [==============================] - 33s 21ms/step - loss: 1.8550 - accuracy: 0.3290 - val_loss: 1.7754 - val_accuracy: 0.3613\n",
            "Epoch 9/10\n",
            "1563/1563 [==============================] - 33s 21ms/step - loss: 1.8352 - accuracy: 0.3379 - val_loss: 1.7483 - val_accuracy: 0.3733\n",
            "Epoch 10/10\n",
            "1563/1563 [==============================] - 33s 21ms/step - loss: 1.8210 - accuracy: 0.3414 - val_loss: 1.7342 - val_accuracy: 0.3729\n"
          ],
          "name": "stdout"
        }
      ]
    },
    {
      "cell_type": "code",
      "metadata": {
        "id": "rhYCzHz6xdOY",
        "outputId": "7cdf19c7-0971-43fd-8566-f2c504c8d03a",
        "colab": {
          "base_uri": "https://localhost:8080/",
          "height": 67
        }
      },
      "source": [
        "scores = model_dense2.evaluate(x_test, y_test, verbose=1)\n",
        "print('Test loss:', scores[0])\n",
        "print('Test accuracy:', scores[1])"
      ],
      "execution_count": 48,
      "outputs": [
        {
          "output_type": "stream",
          "text": [
            "313/313 [==============================] - 1s 2ms/step - loss: 1.7342 - accuracy: 0.3729\n",
            "Test loss: 1.7342361211776733\n",
            "Test accuracy: 0.37290000915527344\n"
          ],
          "name": "stdout"
        }
      ]
    },
    {
      "cell_type": "code",
      "metadata": {
        "id": "2cJdUSMvwm4B",
        "outputId": "29c13bc4-7171-4361-cdbf-92e454ce7fb7",
        "colab": {
          "base_uri": "https://localhost:8080/",
          "height": 370
        }
      },
      "source": [
        "# Dense Neural Network with 3 hidden layers\n",
        "model_dense3 = Sequential()\n",
        "model_dense3.add(Flatten())\n",
        "model_dense3.add(Dense(512))\n",
        "model_dense3.add(Activation('relu'))\n",
        "model_dense3.add(Dropout(0.5))\n",
        "model_dense3.add(Dense(512))\n",
        "model_dense3.add(Activation('relu'))\n",
        "model_dense3.add(Dropout(0.5))\n",
        "model_dense3.add(Dense(512))\n",
        "model_dense3.add(Activation('relu'))\n",
        "model_dense3.add(Dropout(0.5))\n",
        "model_dense3.add(Dense(num_classes))\n",
        "model_dense3.add(Activation('softmax'))\n",
        "\n",
        "\n",
        "# initiate RMSprop optimizer\n",
        "opt = keras.optimizers.RMSprop(learning_rate=0.0001, decay=1e-6)\n",
        "\n",
        "# Let's train the model using RMSprop\n",
        "model_dense3.compile(loss='categorical_crossentropy',\n",
        "              optimizer=opt,\n",
        "              metrics=['accuracy'])\n",
        "\n",
        "if not data_augmentation:\n",
        "    print('Not using data augmentation.')\n",
        "    model_dense3.fit(x_train, y_train,\n",
        "              batch_size=batch_size,\n",
        "              epochs=epochs,\n",
        "              validation_data=(x_test, y_test),\n",
        "              shuffle=True)\n",
        "else:\n",
        "    print('Using real-time data augmentation.')\n",
        "    # This will do preprocessing and realtime data augmentation:\n",
        "    datagen = ImageDataGenerator(\n",
        "        featurewise_center=False,  # set input mean to 0 over the dataset\n",
        "        samplewise_center=False,  # set each sample mean to 0\n",
        "        featurewise_std_normalization=False,  # divide inputs by std of the dataset\n",
        "        samplewise_std_normalization=False,  # divide each input by its std\n",
        "        zca_whitening=False,  # apply ZCA whitening\n",
        "        zca_epsilon=1e-06,  # epsilon for ZCA whitening\n",
        "        rotation_range=0,  # randomly rotate images in the range (degrees, 0 to 180)\n",
        "        # randomly shift images horizontally (fraction of total width)\n",
        "        width_shift_range=0.1,\n",
        "        # randomly shift images vertically (fraction of total height)\n",
        "        height_shift_range=0.1,\n",
        "        shear_range=0.,  # set range for random shear\n",
        "        zoom_range=0.,  # set range for random zoom\n",
        "        channel_shift_range=0.,  # set range for random channel shifts\n",
        "        # set mode for filling points outside the input boundaries\n",
        "        fill_mode='nearest',\n",
        "        cval=0.,  # value used for fill_mode = \"constant\"\n",
        "        horizontal_flip=True,  # randomly flip images\n",
        "        vertical_flip=False,  # randomly flip images\n",
        "        # set rescaling factor (applied before any other transformation)\n",
        "        rescale=None,\n",
        "        # set function that will be applied on each input\n",
        "        preprocessing_function=None,\n",
        "        # image data format, either \"channels_first\" or \"channels_last\"\n",
        "        data_format=None,\n",
        "        # fraction of images reserved for validation (strictly between 0 and 1)\n",
        "        validation_split=0.0)\n",
        "\n",
        "    # Compute quantities required for feature-wise normalization\n",
        "    # (std, mean, and principal components if ZCA whitening is applied).\n",
        "    datagen.fit(x_train)\n",
        "\n",
        "    # Fit the model on the batches generated by datagen.flow().\n",
        "    history_dense3 = model_dense3.fit_generator(datagen.flow(x_train, y_train,\n",
        "                                     batch_size=batch_size),\n",
        "                        epochs=epochs,\n",
        "                        validation_data=(x_test, y_test),\n",
        "                        workers=4)"
      ],
      "execution_count": 49,
      "outputs": [
        {
          "output_type": "stream",
          "text": [
            "Using real-time data augmentation.\n",
            "Epoch 1/10\n",
            "1563/1563 [==============================] - 33s 21ms/step - loss: 2.1931 - accuracy: 0.1542 - val_loss: 2.0609 - val_accuracy: 0.2196\n",
            "Epoch 2/10\n",
            "1563/1563 [==============================] - 33s 21ms/step - loss: 2.0512 - accuracy: 0.2248 - val_loss: 1.9753 - val_accuracy: 0.2649\n",
            "Epoch 3/10\n",
            "1563/1563 [==============================] - 34s 22ms/step - loss: 1.9919 - accuracy: 0.2596 - val_loss: 1.9181 - val_accuracy: 0.2851\n",
            "Epoch 4/10\n",
            "1563/1563 [==============================] - 34s 22ms/step - loss: 1.9537 - accuracy: 0.2760 - val_loss: 1.8678 - val_accuracy: 0.3189\n",
            "Epoch 5/10\n",
            "1563/1563 [==============================] - 34s 22ms/step - loss: 1.9171 - accuracy: 0.2970 - val_loss: 1.8292 - val_accuracy: 0.3353\n",
            "Epoch 6/10\n",
            "1563/1563 [==============================] - 33s 21ms/step - loss: 1.8842 - accuracy: 0.3136 - val_loss: 1.7870 - val_accuracy: 0.3531\n",
            "Epoch 7/10\n",
            "1563/1563 [==============================] - 33s 21ms/step - loss: 1.8617 - accuracy: 0.3205 - val_loss: 1.7569 - val_accuracy: 0.3639\n",
            "Epoch 8/10\n",
            "1563/1563 [==============================] - 33s 21ms/step - loss: 1.8369 - accuracy: 0.3326 - val_loss: 1.7331 - val_accuracy: 0.3711\n",
            "Epoch 9/10\n",
            "1563/1563 [==============================] - 34s 22ms/step - loss: 1.8195 - accuracy: 0.3411 - val_loss: 1.7036 - val_accuracy: 0.3856\n",
            "Epoch 10/10\n",
            "1563/1563 [==============================] - 33s 21ms/step - loss: 1.8035 - accuracy: 0.3467 - val_loss: 1.6878 - val_accuracy: 0.3923\n"
          ],
          "name": "stdout"
        }
      ]
    },
    {
      "cell_type": "code",
      "metadata": {
        "id": "zBjLB3h7xgDE",
        "outputId": "ab6687f1-8be9-4977-fde0-2e3dfbb7502b",
        "colab": {
          "base_uri": "https://localhost:8080/",
          "height": 67
        }
      },
      "source": [
        "scores = model_dense3.evaluate(x_test, y_test, verbose=1)\n",
        "print('Test loss:', scores[0])\n",
        "print('Test accuracy:', scores[1])"
      ],
      "execution_count": 50,
      "outputs": [
        {
          "output_type": "stream",
          "text": [
            "313/313 [==============================] - 1s 3ms/step - loss: 1.6878 - accuracy: 0.3923\n",
            "Test loss: 1.6877692937850952\n",
            "Test accuracy: 0.392300009727478\n"
          ],
          "name": "stdout"
        }
      ]
    },
    {
      "cell_type": "code",
      "metadata": {
        "id": "Prsku8DYwnhr",
        "outputId": "02912340-16f6-4e7d-a21c-e9d59191c7d5",
        "colab": {
          "base_uri": "https://localhost:8080/",
          "height": 370
        }
      },
      "source": [
        "# Dense Neural Network with 4 hidden layers\n",
        "model_dense4 = Sequential()\n",
        "model_dense4.add(Flatten())\n",
        "model_dense4.add(Dense(512))\n",
        "model_dense4.add(Activation('relu'))\n",
        "model_dense4.add(Dropout(0.5))\n",
        "model_dense4.add(Dense(512))\n",
        "model_dense4.add(Activation('relu'))\n",
        "model_dense4.add(Dropout(0.5))\n",
        "model_dense4.add(Dense(512))\n",
        "model_dense4.add(Activation('relu'))\n",
        "model_dense4.add(Dropout(0.5))\n",
        "model_dense4.add(Dense(512))\n",
        "model_dense4.add(Activation('relu'))\n",
        "model_dense4.add(Dropout(0.5))\n",
        "model_dense4.add(Dense(num_classes))\n",
        "model_dense4.add(Activation('softmax'))\n",
        "\n",
        "\n",
        "# initiate RMSprop optimizer\n",
        "opt = keras.optimizers.RMSprop(learning_rate=0.0001, decay=1e-6)\n",
        "\n",
        "# Let's train the model using RMSprop\n",
        "model_dense4.compile(loss='categorical_crossentropy',\n",
        "              optimizer=opt,\n",
        "              metrics=['accuracy'])\n",
        "\n",
        "if not data_augmentation:\n",
        "    print('Not using data augmentation.')\n",
        "    model_dense4.fit(x_train, y_train,\n",
        "              batch_size=batch_size,\n",
        "              epochs=epochs,\n",
        "              validation_data=(x_test, y_test),\n",
        "              shuffle=True)\n",
        "else:\n",
        "    print('Using real-time data augmentation.')\n",
        "    # This will do preprocessing and realtime data augmentation:\n",
        "    datagen = ImageDataGenerator(\n",
        "        featurewise_center=False,  # set input mean to 0 over the dataset\n",
        "        samplewise_center=False,  # set each sample mean to 0\n",
        "        featurewise_std_normalization=False,  # divide inputs by std of the dataset\n",
        "        samplewise_std_normalization=False,  # divide each input by its std\n",
        "        zca_whitening=False,  # apply ZCA whitening\n",
        "        zca_epsilon=1e-06,  # epsilon for ZCA whitening\n",
        "        rotation_range=0,  # randomly rotate images in the range (degrees, 0 to 180)\n",
        "        # randomly shift images horizontally (fraction of total width)\n",
        "        width_shift_range=0.1,\n",
        "        # randomly shift images vertically (fraction of total height)\n",
        "        height_shift_range=0.1,\n",
        "        shear_range=0.,  # set range for random shear\n",
        "        zoom_range=0.,  # set range for random zoom\n",
        "        channel_shift_range=0.,  # set range for random channel shifts\n",
        "        # set mode for filling points outside the input boundaries\n",
        "        fill_mode='nearest',\n",
        "        cval=0.,  # value used for fill_mode = \"constant\"\n",
        "        horizontal_flip=True,  # randomly flip images\n",
        "        vertical_flip=False,  # randomly flip images\n",
        "        # set rescaling factor (applied before any other transformation)\n",
        "        rescale=None,\n",
        "        # set function that will be applied on each input\n",
        "        preprocessing_function=None,\n",
        "        # image data format, either \"channels_first\" or \"channels_last\"\n",
        "        data_format=None,\n",
        "        # fraction of images reserved for validation (strictly between 0 and 1)\n",
        "        validation_split=0.0)\n",
        "\n",
        "    # Compute quantities required for feature-wise normalization\n",
        "    # (std, mean, and principal components if ZCA whitening is applied).\n",
        "    datagen.fit(x_train)\n",
        "\n",
        "    # Fit the model on the batches generated by datagen.flow().\n",
        "    history_dense4 = model_dense4.fit_generator(datagen.flow(x_train, y_train,\n",
        "                                     batch_size=batch_size),\n",
        "                        epochs=epochs,\n",
        "                        validation_data=(x_test, y_test),\n",
        "                        workers=4)"
      ],
      "execution_count": 51,
      "outputs": [
        {
          "output_type": "stream",
          "text": [
            "Using real-time data augmentation.\n",
            "Epoch 1/10\n",
            "1563/1563 [==============================] - 33s 21ms/step - loss: 2.2199 - accuracy: 0.1433 - val_loss: 2.0769 - val_accuracy: 0.1958\n",
            "Epoch 2/10\n",
            "1563/1563 [==============================] - 34s 22ms/step - loss: 2.0770 - accuracy: 0.2005 - val_loss: 1.9936 - val_accuracy: 0.2488\n",
            "Epoch 3/10\n",
            "1563/1563 [==============================] - 33s 21ms/step - loss: 2.0049 - accuracy: 0.2463 - val_loss: 1.9189 - val_accuracy: 0.2767\n",
            "Epoch 4/10\n",
            "1563/1563 [==============================] - 34s 22ms/step - loss: 1.9661 - accuracy: 0.2598 - val_loss: 1.8739 - val_accuracy: 0.2918\n",
            "Epoch 5/10\n",
            "1563/1563 [==============================] - 34s 21ms/step - loss: 1.9271 - accuracy: 0.2828 - val_loss: 1.8279 - val_accuracy: 0.3235\n",
            "Epoch 6/10\n",
            "1563/1563 [==============================] - 33s 21ms/step - loss: 1.8972 - accuracy: 0.3018 - val_loss: 1.7975 - val_accuracy: 0.3481\n",
            "Epoch 7/10\n",
            "1563/1563 [==============================] - 33s 21ms/step - loss: 1.8754 - accuracy: 0.3111 - val_loss: 1.7693 - val_accuracy: 0.3602\n",
            "Epoch 8/10\n",
            "1563/1563 [==============================] - 34s 22ms/step - loss: 1.8520 - accuracy: 0.3227 - val_loss: 1.7376 - val_accuracy: 0.3641\n",
            "Epoch 9/10\n",
            "1563/1563 [==============================] - 34s 22ms/step - loss: 1.8352 - accuracy: 0.3301 - val_loss: 1.7115 - val_accuracy: 0.3817\n",
            "Epoch 10/10\n",
            "1563/1563 [==============================] - 34s 22ms/step - loss: 1.8169 - accuracy: 0.3396 - val_loss: 1.6883 - val_accuracy: 0.3939\n"
          ],
          "name": "stdout"
        }
      ]
    },
    {
      "cell_type": "code",
      "metadata": {
        "id": "sd1QaLgWtVW_",
        "outputId": "90443186-b0d8-404c-be4e-9cf3e031879e",
        "colab": {
          "base_uri": "https://localhost:8080/",
          "height": 67
        }
      },
      "source": [
        "scores = model_dense4.evaluate(x_test, y_test, verbose=1)\n",
        "print('Test loss:', scores[0])\n",
        "print('Test accuracy:', scores[1])"
      ],
      "execution_count": 52,
      "outputs": [
        {
          "output_type": "stream",
          "text": [
            "313/313 [==============================] - 1s 3ms/step - loss: 1.6883 - accuracy: 0.3939\n",
            "Test loss: 1.688275933265686\n",
            "Test accuracy: 0.3939000070095062\n"
          ],
          "name": "stdout"
        }
      ]
    },
    {
      "cell_type": "code",
      "metadata": {
        "id": "tFz6pUtl3FeT",
        "outputId": "87b20c53-b343-43a0-d1ce-ece996cbcb68",
        "colab": {
          "base_uri": "https://localhost:8080/",
          "height": 296
        }
      },
      "source": [
        "import matplotlib.pyplot as plt\n",
        "plt.plot(history_cnn.history['val_accuracy'], label='CNN')\n",
        "plt.plot(history_dense0.history['val_accuracy'], label='Dense-0')\n",
        "plt.plot(history_dense1.history['val_accuracy'], label='Dense-1')\n",
        "plt.plot(history_dense2.history['val_accuracy'], label='Dense-2')\n",
        "plt.plot(history_dense3.history['val_accuracy'], label='Dense-3')\n",
        "plt.plot(history_dense4.history['val_accuracy'], label='Dense-4')\n",
        "plt.ylabel('Validation Accuracy')\n",
        "plt.xlabel('Epoch')\n",
        "plt.legend()"
      ],
      "execution_count": 91,
      "outputs": [
        {
          "output_type": "execute_result",
          "data": {
            "text/plain": [
              "<matplotlib.legend.Legend at 0x7f580cc2cac8>"
            ]
          },
          "metadata": {
            "tags": []
          },
          "execution_count": 91
        },
        {
          "output_type": "display_data",
          "data": {
            "image/png": "[encoded data removed]",
            "text/plain": [
              "<Figure size 432x288 with 1 Axes>"
            ]
          },
          "metadata": {
            "tags": [],
            "needs_background": "light"
          }
        }
      ]
    },
    {
      "cell_type": "markdown",
      "metadata": {
        "id": "Xc9yHIME68E4"
      },
      "source": [
        "In the above plot, the validation accuracy for each of the dense neural networks appear to be worse than the convolutional neural network. Among the dense neural networks, it appears that the more hidden layers there are, the better the model ends up doing (and probably would continue to do if trained for more than 10 epochs). The convolutional neural network can accomodate more hidden layers while reducing the number of parameters that a dense network would need if it were to use the same number of hidden layers. "
      ]
    },
    {
      "cell_type": "markdown",
      "metadata": {
        "id": "EeIhxzfSAbrT"
      },
      "source": [
        "# Question 2\n",
        "Compare the accuracy achieved by rectified linear units and sigmoid units in the convolutional neural network. Modify the code above to use sigmoid units. Produce a plot that contains 2 curves (one for rectified linear units and another for sigmoid units). The y-axis is the test (validation) accuracy and the x-axis is the number of epochs. Produce curves for the first 10 epochs. Explain the results. "
      ]
    },
    {
      "cell_type": "code",
      "metadata": {
        "id": "gpFBrRbUBSIL",
        "outputId": "e9fd5c15-510e-4ad5-ff32-e88c60e89e8f",
        "colab": {
          "base_uri": "https://localhost:8080/",
          "height": 370
        }
      },
      "source": [
        "model_sigmoid = Sequential()\n",
        "model_sigmoid.add(Conv2D(32, (3, 3), padding='same',\n",
        "                 input_shape=x_train.shape[1:]))\n",
        "model_sigmoid.add(Activation('sigmoid'))\n",
        "model_sigmoid.add(Conv2D(32, (3, 3)))\n",
        "model_sigmoid.add(Activation('sigmoid'))\n",
        "model_sigmoid.add(MaxPooling2D(pool_size=(2, 2)))\n",
        "model_sigmoid.add(Dropout(0.25))\n",
        "\n",
        "model_sigmoid.add(Conv2D(64, (3, 3), padding='same'))\n",
        "model_sigmoid.add(Activation('sigmoid'))\n",
        "model_sigmoid.add(Conv2D(64, (3, 3)))\n",
        "model_sigmoid.add(Activation('sigmoid'))\n",
        "model_sigmoid.add(MaxPooling2D(pool_size=(2, 2)))\n",
        "model_sigmoid.add(Dropout(0.25))\n",
        "\n",
        "model_sigmoid.add(Flatten())\n",
        "model_sigmoid.add(Dense(512))\n",
        "model_sigmoid.add(Activation('sigmoid'))\n",
        "model_sigmoid.add(Dropout(0.5))\n",
        "model_sigmoid.add(Dense(num_classes))\n",
        "model_sigmoid.add(Activation('softmax'))\n",
        "\n",
        "# initiate RMSprop optimizer\n",
        "opt = keras.optimizers.RMSprop(learning_rate=0.0001, decay=1e-6)\n",
        "\n",
        "# Let's train the model using RMSprop\n",
        "model_sigmoid.compile(loss='categorical_crossentropy',\n",
        "              optimizer=opt,\n",
        "              metrics=['accuracy'])\n",
        "\n",
        "if not data_augmentation:\n",
        "    print('Not using data augmentation.')\n",
        "    model_sigmoid.fit(x_train, y_train,\n",
        "              batch_size=batch_size,\n",
        "              epochs=epochs,\n",
        "              validation_data=(x_test, y_test),\n",
        "              shuffle=True)\n",
        "else:\n",
        "    print('Using real-time data augmentation.')\n",
        "    # This will do preprocessing and realtime data augmentation:\n",
        "    datagen = ImageDataGenerator(\n",
        "        featurewise_center=False,  # set input mean to 0 over the dataset\n",
        "        samplewise_center=False,  # set each sample mean to 0\n",
        "        featurewise_std_normalization=False,  # divide inputs by std of the dataset\n",
        "        samplewise_std_normalization=False,  # divide each input by its std\n",
        "        zca_whitening=False,  # apply ZCA whitening\n",
        "        zca_epsilon=1e-06,  # epsilon for ZCA whitening\n",
        "        rotation_range=0,  # randomly rotate images in the range (degrees, 0 to 180)\n",
        "        # randomly shift images horizontally (fraction of total width)\n",
        "        width_shift_range=0.1,\n",
        "        # randomly shift images vertically (fraction of total height)\n",
        "        height_shift_range=0.1,\n",
        "        shear_range=0.,  # set range for random shear\n",
        "        zoom_range=0.,  # set range for random zoom\n",
        "        channel_shift_range=0.,  # set range for random channel shifts\n",
        "        # set mode for filling points outside the input boundaries\n",
        "        fill_mode='nearest',\n",
        "        cval=0.,  # value used for fill_mode = \"constant\"\n",
        "        horizontal_flip=True,  # randomly flip images\n",
        "        vertical_flip=False,  # randomly flip images\n",
        "        # set rescaling factor (applied before any other transformation)\n",
        "        rescale=None,\n",
        "        # set function that will be applied on each input\n",
        "        preprocessing_function=None,\n",
        "        # image data format, either \"channels_first\" or \"channels_last\"\n",
        "        data_format=None,\n",
        "        # fraction of images reserved for validation (strictly between 0 and 1)\n",
        "        validation_split=0.0)\n",
        "\n",
        "    # Compute quantities required for feature-wise normalization\n",
        "    # (std, mean, and principal components if ZCA whitening is applied).\n",
        "    datagen.fit(x_train)\n",
        "\n",
        "    # Fit the model on the batches generated by datagen.flow().\n",
        "    history_sigmoid = model_sigmoid.fit_generator(datagen.flow(x_train, y_train,\n",
        "                                     batch_size=batch_size),\n",
        "                        epochs=epochs,\n",
        "                        validation_data=(x_test, y_test),\n",
        "                        workers=4)"
      ],
      "execution_count": 64,
      "outputs": [
        {
          "output_type": "stream",
          "text": [
            "Using real-time data augmentation.\n",
            "Epoch 1/10\n",
            "1563/1563 [==============================] - 36s 23ms/step - loss: 2.3320 - accuracy: 0.0994 - val_loss: 2.3039 - val_accuracy: 0.1000\n",
            "Epoch 2/10\n",
            "1563/1563 [==============================] - 35s 23ms/step - loss: 2.3080 - accuracy: 0.1008 - val_loss: 2.3029 - val_accuracy: 0.1000\n",
            "Epoch 3/10\n",
            "1563/1563 [==============================] - 35s 23ms/step - loss: 2.3070 - accuracy: 0.1005 - val_loss: 2.3031 - val_accuracy: 0.1000\n",
            "Epoch 4/10\n",
            "1563/1563 [==============================] - 36s 23ms/step - loss: 2.3058 - accuracy: 0.1009 - val_loss: 2.3038 - val_accuracy: 0.1000\n",
            "Epoch 5/10\n",
            "1563/1563 [==============================] - 36s 23ms/step - loss: 2.3052 - accuracy: 0.0987 - val_loss: 2.3027 - val_accuracy: 0.1000\n",
            "Epoch 6/10\n",
            "1563/1563 [==============================] - 36s 23ms/step - loss: 2.3050 - accuracy: 0.1013 - val_loss: 2.3029 - val_accuracy: 0.1000\n",
            "Epoch 7/10\n",
            "1563/1563 [==============================] - 36s 23ms/step - loss: 2.3044 - accuracy: 0.0979 - val_loss: 2.3029 - val_accuracy: 0.1000\n",
            "Epoch 8/10\n",
            "1563/1563 [==============================] - 36s 23ms/step - loss: 2.3041 - accuracy: 0.1022 - val_loss: 2.3032 - val_accuracy: 0.1000\n",
            "Epoch 9/10\n",
            "1563/1563 [==============================] - 36s 23ms/step - loss: 2.3042 - accuracy: 0.1017 - val_loss: 2.3028 - val_accuracy: 0.1000\n",
            "Epoch 10/10\n",
            "1563/1563 [==============================] - 36s 23ms/step - loss: 2.3042 - accuracy: 0.1017 - val_loss: 2.3030 - val_accuracy: 0.1000\n"
          ],
          "name": "stdout"
        }
      ]
    },
    {
      "cell_type": "code",
      "metadata": {
        "id": "8qZfITof_14w"
      },
      "source": [
        "# Save model and weights\n",
        "model_name = 'keras_cifar10_trained_model_sigmoid.h5'\n",
        "if not os.path.isdir(save_dir):\n",
        "    os.makedirs(save_dir)\n",
        "model_path = os.path.join(save_dir, model_name)\n",
        "model.save(model_path)\n",
        "print('Saved trained model at %s ' % model_path)\n"
      ],
      "execution_count": null,
      "outputs": []
    },
    {
      "cell_type": "code",
      "metadata": {
        "id": "HgfF8jcKCGjM",
        "outputId": "5165f2b2-0e60-48b1-fe2e-0836bbf1843c",
        "colab": {
          "base_uri": "https://localhost:8080/",
          "height": 67
        }
      },
      "source": [
        "scores = model_sigmoid.evaluate(x_test, y_test, verbose=1)\n",
        "print('Test loss:', scores[0])\n",
        "print('Test accuracy:', scores[1])"
      ],
      "execution_count": 65,
      "outputs": [
        {
          "output_type": "stream",
          "text": [
            "313/313 [==============================] - 1s 3ms/step - loss: 2.3030 - accuracy: 0.1000\n",
            "Test loss: 2.302999496459961\n",
            "Test accuracy: 0.10000000149011612\n"
          ],
          "name": "stdout"
        }
      ]
    },
    {
      "cell_type": "code",
      "metadata": {
        "id": "B_2-osJaEXt8",
        "outputId": "d32bfdbe-d1e9-443e-b7fd-64fc771106d5",
        "colab": {
          "base_uri": "https://localhost:8080/",
          "height": 296
        }
      },
      "source": [
        "plt.plot(history_cnn.history['val_accuracy'], label=\"ReLU\")\n",
        "plt.plot(history_sigmoid.history['val_accuracy'], label=\"Sigmoid\")\n",
        "plt.ylabel('Validation Accuracy')\n",
        "plt.xlabel('Epoch')\n",
        "plt.legend()"
      ],
      "execution_count": 66,
      "outputs": [
        {
          "output_type": "execute_result",
          "data": {
            "text/plain": [
              "<matplotlib.legend.Legend at 0x7f581a55a550>"
            ]
          },
          "metadata": {
            "tags": []
          },
          "execution_count": 66
        },
        {
          "output_type": "display_data",
          "data": {
            "image/png": "[encoded data removed]",
            "text/plain": [
              "<Figure size 432x288 with 1 Axes>"
            ]
          },
          "metadata": {
            "tags": [],
            "needs_background": "light"
          }
        }
      ]
    },
    {
      "cell_type": "markdown",
      "metadata": {
        "id": "6nEk3iU4GPV9"
      },
      "source": [
        "The above plot of the first 10 epochs shows that the ReLU CNN model way outperforms the sigmoid CNN model. ReLU activation functions help the model converge faster than with sigmoid functions, so it makes sense that ReLU has faster increasing validation accuracy for every epoch when compared to the model with sigmoid activations. Using ReLU removes the issue of vanishing gradients. This problem affects the earlier layers in a deep neural network (since the maximum of the derivative of a sigmoid is .25 which would decreases the gradients exponentially). So when using sigmoid activiations, the gradients become very small which results in smaller and smaller changes to the weights so that they essentially become fixed and never change. Therefore, if the model doesn't perform well from the start, the validation accuracy isn't going to improve much at all even with more training epochs. \n"
      ]
    },
    {
      "cell_type": "markdown",
      "metadata": {
        "id": "l8uiUuZuO2TP"
      },
      "source": [
        "# Question 3\n",
        "Compare the accuracy achieved with and without dropout as well as with and without data augmentation in the convolutional neural network. Modify the code above to turn on and off dropout as well as data augmentation. Produce 2 graphs (one for training accuracy and one for test accuracy) that each contains 4 curves (with and without dropout as well as with and without data augmentation). Produce curves for as many epochs as you can up to 100 epochs. "
      ]
    },
    {
      "cell_type": "code",
      "metadata": {
        "id": "uOmBLSlSPjHz",
        "outputId": "b215b564-18da-4d0d-ea23-339ca167a36d",
        "colab": {
          "base_uri": "https://localhost:8080/",
          "height": 1000
        }
      },
      "source": [
        "# Parameters\n",
        "epochs=100\n",
        "data_augmentation=True\n",
        "\n",
        "model_dropout_aug = Sequential()\n",
        "model_dropout_aug.add(Conv2D(32, (3, 3), padding='same',\n",
        "                 input_shape=x_train.shape[1:]))\n",
        "model_dropout_aug.add(Activation('relu'))\n",
        "model_dropout_aug.add(Conv2D(32, (3, 3)))\n",
        "model_dropout_aug.add(Activation('relu'))\n",
        "model_dropout_aug.add(MaxPooling2D(pool_size=(2, 2)))\n",
        "model_dropout_aug.add(Dropout(0.5))\n",
        "\n",
        "model_dropout_aug.add(Conv2D(64, (3, 3), padding='same'))\n",
        "model_dropout_aug.add(Activation('relu'))\n",
        "model_dropout_aug.add(Conv2D(64, (3, 3)))\n",
        "model_dropout_aug.add(Activation('relu'))\n",
        "model_dropout_aug.add(MaxPooling2D(pool_size=(2, 2)))\n",
        "model_dropout_aug.add(Dropout(0.5))\n",
        "\n",
        "model_dropout_aug.add(Flatten())\n",
        "model_dropout_aug.add(Dense(512))\n",
        "model_dropout_aug.add(Activation('relu'))\n",
        "model_dropout_aug.add(Dropout(0.5))\n",
        "model_dropout_aug.add(Dense(num_classes))\n",
        "model_dropout_aug.add(Activation('softmax'))\n",
        "\n",
        "# initiate RMSprop optimizer\n",
        "opt = keras.optimizers.RMSprop(learning_rate=0.0001, decay=1e-6)\n",
        "\n",
        "# Let's train the model using RMSprop\n",
        "model_dropout_aug.compile(loss='categorical_crossentropy',\n",
        "              optimizer=opt,\n",
        "              metrics=['accuracy'])\n",
        "\n",
        "if not data_augmentation:\n",
        "    print('Not using data augmentation.')\n",
        "    model_dropout_aug.fit(x_train, y_train,\n",
        "              batch_size=batch_size,\n",
        "              epochs=epochs,\n",
        "              validation_data=(x_test, y_test),\n",
        "              shuffle=True)\n",
        "else:\n",
        "    print('Using real-time data augmentation.')\n",
        "    # This will do preprocessing and realtime data augmentation:\n",
        "    datagen = ImageDataGenerator(\n",
        "        featurewise_center=False,  # set input mean to 0 over the dataset\n",
        "        samplewise_center=False,  # set each sample mean to 0\n",
        "        featurewise_std_normalization=False,  # divide inputs by std of the dataset\n",
        "        samplewise_std_normalization=False,  # divide each input by its std\n",
        "        zca_whitening=False,  # apply ZCA whitening\n",
        "        zca_epsilon=1e-06,  # epsilon for ZCA whitening\n",
        "        rotation_range=0,  # randomly rotate images in the range (degrees, 0 to 180)\n",
        "        # randomly shift images horizontally (fraction of total width)\n",
        "        width_shift_range=0.1,\n",
        "        # randomly shift images vertically (fraction of total height)\n",
        "        height_shift_range=0.1,\n",
        "        shear_range=0.,  # set range for random shear\n",
        "        zoom_range=0.,  # set range for random zoom\n",
        "        channel_shift_range=0.,  # set range for random channel shifts\n",
        "        # set mode for filling points outside the input boundaries\n",
        "        fill_mode='nearest',\n",
        "        cval=0.,  # value used for fill_mode = \"constant\"\n",
        "        horizontal_flip=True,  # randomly flip images\n",
        "        vertical_flip=False,  # randomly flip images\n",
        "        # set rescaling factor (applied before any other transformation)\n",
        "        rescale=None,\n",
        "        # set function that will be applied on each input\n",
        "        preprocessing_function=None,\n",
        "        # image data format, either \"channels_first\" or \"channels_last\"\n",
        "        data_format=None,\n",
        "        # fraction of images reserved for validation (strictly between 0 and 1)\n",
        "        validation_split=0.0)\n",
        "\n",
        "    # Compute quantities required for feature-wise normalization\n",
        "    # (std, mean, and principal components if ZCA whitening is applied).\n",
        "    datagen.fit(x_train)\n",
        "\n",
        "    # Fit the model on the batches generated by datagen.flow().\n",
        "    history_dropout_aug = model_dropout_aug.fit_generator(datagen.flow(x_train, y_train,\n",
        "                                     batch_size=batch_size),\n",
        "                        epochs=epochs,\n",
        "                        validation_data=(x_test, y_test),\n",
        "                        workers=4)"
      ],
      "execution_count": 74,
      "outputs": [
        {
          "output_type": "stream",
          "text": [
            "Using real-time data augmentation.\n",
            "Epoch 1/100\n",
            "1563/1563 [==============================] - 35s 22ms/step - loss: 2.1873 - accuracy: 0.1813 - val_loss: 2.0136 - val_accuracy: 0.2659\n",
            "Epoch 2/100\n",
            "1563/1563 [==============================] - 34s 22ms/step - loss: 2.0440 - accuracy: 0.2506 - val_loss: 1.9537 - val_accuracy: 0.2856\n",
            "Epoch 3/100\n",
            "1563/1563 [==============================] - 34s 22ms/step - loss: 2.0077 - accuracy: 0.2616 - val_loss: 2.0005 - val_accuracy: 0.2652\n",
            "Epoch 4/100\n",
            "1563/1563 [==============================] - 35s 22ms/step - loss: 1.9683 - accuracy: 0.2812 - val_loss: 1.8543 - val_accuracy: 0.3375\n",
            "Epoch 5/100\n",
            "1563/1563 [==============================] - 34s 22ms/step - loss: 1.9041 - accuracy: 0.3088 - val_loss: 1.7848 - val_accuracy: 0.3656\n",
            "Epoch 6/100\n",
            "1563/1563 [==============================] - 35s 22ms/step - loss: 1.8436 - accuracy: 0.3334 - val_loss: 1.7030 - val_accuracy: 0.3909\n",
            "Epoch 7/100\n",
            "1563/1563 [==============================] - 35s 22ms/step - loss: 1.7926 - accuracy: 0.3512 - val_loss: 1.6750 - val_accuracy: 0.3993\n",
            "Epoch 8/100\n",
            "1563/1563 [==============================] - 34s 22ms/step - loss: 1.7475 - accuracy: 0.3671 - val_loss: 1.5946 - val_accuracy: 0.4292\n",
            "Epoch 9/100\n",
            "1563/1563 [==============================] - 34s 22ms/step - loss: 1.7094 - accuracy: 0.3820 - val_loss: 1.5594 - val_accuracy: 0.4393\n",
            "Epoch 10/100\n",
            "1563/1563 [==============================] - 35s 22ms/step - loss: 1.6818 - accuracy: 0.3915 - val_loss: 1.5885 - val_accuracy: 0.4285\n",
            "Epoch 11/100\n",
            "1563/1563 [==============================] - 34s 22ms/step - loss: 1.6535 - accuracy: 0.4029 - val_loss: 1.5555 - val_accuracy: 0.4454\n",
            "Epoch 12/100\n",
            "1563/1563 [==============================] - 35s 22ms/step - loss: 1.6305 - accuracy: 0.4116 - val_loss: 1.4741 - val_accuracy: 0.4737\n",
            "Epoch 13/100\n",
            "1563/1563 [==============================] - 35s 22ms/step - loss: 1.6088 - accuracy: 0.4211 - val_loss: 1.4545 - val_accuracy: 0.4832\n",
            "Epoch 14/100\n",
            "1563/1563 [==============================] - 35s 23ms/step - loss: 1.5924 - accuracy: 0.4240 - val_loss: 1.4407 - val_accuracy: 0.4749\n",
            "Epoch 15/100\n",
            "1563/1563 [==============================] - 34s 22ms/step - loss: 1.5756 - accuracy: 0.4294 - val_loss: 1.4489 - val_accuracy: 0.4845\n",
            "Epoch 16/100\n",
            "1563/1563 [==============================] - 34s 22ms/step - loss: 1.5654 - accuracy: 0.4342 - val_loss: 1.4452 - val_accuracy: 0.4823\n",
            "Epoch 17/100\n",
            "1563/1563 [==============================] - 34s 22ms/step - loss: 1.5508 - accuracy: 0.4391 - val_loss: 1.3949 - val_accuracy: 0.5013\n",
            "Epoch 18/100\n",
            "1563/1563 [==============================] - 34s 22ms/step - loss: 1.5391 - accuracy: 0.4441 - val_loss: 1.3852 - val_accuracy: 0.5007\n",
            "Epoch 19/100\n",
            "1563/1563 [==============================] - 33s 21ms/step - loss: 1.5289 - accuracy: 0.4480 - val_loss: 1.3628 - val_accuracy: 0.5084\n",
            "Epoch 20/100\n",
            "1563/1563 [==============================] - 33s 21ms/step - loss: 1.5206 - accuracy: 0.4523 - val_loss: 1.4092 - val_accuracy: 0.4880\n",
            "Epoch 21/100\n",
            "1563/1563 [==============================] - 33s 21ms/step - loss: 1.5045 - accuracy: 0.4572 - val_loss: 1.3367 - val_accuracy: 0.5223\n",
            "Epoch 22/100\n",
            "1563/1563 [==============================] - 36s 23ms/step - loss: 1.4970 - accuracy: 0.4586 - val_loss: 1.3814 - val_accuracy: 0.5138\n",
            "Epoch 23/100\n",
            "1563/1563 [==============================] - 35s 23ms/step - loss: 1.4894 - accuracy: 0.4627 - val_loss: 1.3727 - val_accuracy: 0.5073\n",
            "Epoch 24/100\n",
            "1563/1563 [==============================] - 36s 23ms/step - loss: 1.4800 - accuracy: 0.4651 - val_loss: 1.3191 - val_accuracy: 0.5270\n",
            "Epoch 25/100\n",
            "1563/1563 [==============================] - 36s 23ms/step - loss: 1.4700 - accuracy: 0.4685 - val_loss: 1.3013 - val_accuracy: 0.5351\n",
            "Epoch 26/100\n",
            "1563/1563 [==============================] - 35s 23ms/step - loss: 1.4662 - accuracy: 0.4717 - val_loss: 1.3103 - val_accuracy: 0.5393\n",
            "Epoch 27/100\n",
            "1563/1563 [==============================] - 35s 23ms/step - loss: 1.4586 - accuracy: 0.4731 - val_loss: 1.2998 - val_accuracy: 0.5331\n",
            "Epoch 28/100\n",
            "1563/1563 [==============================] - 35s 23ms/step - loss: 1.4526 - accuracy: 0.4760 - val_loss: 1.3183 - val_accuracy: 0.5364\n",
            "Epoch 29/100\n",
            "1563/1563 [==============================] - 36s 23ms/step - loss: 1.4459 - accuracy: 0.4780 - val_loss: 1.3877 - val_accuracy: 0.5064\n",
            "Epoch 30/100\n",
            "1563/1563 [==============================] - 36s 23ms/step - loss: 1.4368 - accuracy: 0.4826 - val_loss: 1.2924 - val_accuracy: 0.5442\n",
            "Epoch 31/100\n",
            "1563/1563 [==============================] - 35s 23ms/step - loss: 1.4281 - accuracy: 0.4856 - val_loss: 1.2906 - val_accuracy: 0.5476\n",
            "Epoch 32/100\n",
            "1563/1563 [==============================] - 35s 22ms/step - loss: 1.4224 - accuracy: 0.4871 - val_loss: 1.2998 - val_accuracy: 0.5372\n",
            "Epoch 33/100\n",
            "1563/1563 [==============================] - 35s 22ms/step - loss: 1.4195 - accuracy: 0.4891 - val_loss: 1.2695 - val_accuracy: 0.5498\n",
            "Epoch 34/100\n",
            "1563/1563 [==============================] - 36s 23ms/step - loss: 1.4069 - accuracy: 0.4934 - val_loss: 1.2498 - val_accuracy: 0.5634\n",
            "Epoch 35/100\n",
            "1563/1563 [==============================] - 36s 23ms/step - loss: 1.4049 - accuracy: 0.4954 - val_loss: 1.2682 - val_accuracy: 0.5458\n",
            "Epoch 36/100\n",
            "1563/1563 [==============================] - 36s 23ms/step - loss: 1.3942 - accuracy: 0.4974 - val_loss: 1.2527 - val_accuracy: 0.5549\n",
            "Epoch 37/100\n",
            "1563/1563 [==============================] - 36s 23ms/step - loss: 1.3867 - accuracy: 0.5034 - val_loss: 1.2445 - val_accuracy: 0.5679\n",
            "Epoch 38/100\n",
            "1563/1563 [==============================] - 36s 23ms/step - loss: 1.3781 - accuracy: 0.5071 - val_loss: 1.2387 - val_accuracy: 0.5614\n",
            "Epoch 39/100\n",
            "1563/1563 [==============================] - 36s 23ms/step - loss: 1.3810 - accuracy: 0.5030 - val_loss: 1.2889 - val_accuracy: 0.5321\n",
            "Epoch 40/100\n",
            "1563/1563 [==============================] - 36s 23ms/step - loss: 1.3687 - accuracy: 0.5104 - val_loss: 1.2329 - val_accuracy: 0.5570\n",
            "Epoch 41/100\n",
            "1563/1563 [==============================] - 36s 23ms/step - loss: 1.3600 - accuracy: 0.5127 - val_loss: 1.2592 - val_accuracy: 0.5566\n",
            "Epoch 42/100\n",
            "1563/1563 [==============================] - 35s 23ms/step - loss: 1.3582 - accuracy: 0.5115 - val_loss: 1.2178 - val_accuracy: 0.5645\n",
            "Epoch 43/100\n",
            "1563/1563 [==============================] - 35s 23ms/step - loss: 1.3545 - accuracy: 0.5120 - val_loss: 1.2374 - val_accuracy: 0.5582\n",
            "Epoch 44/100\n",
            "1563/1563 [==============================] - 35s 23ms/step - loss: 1.3471 - accuracy: 0.5173 - val_loss: 1.2376 - val_accuracy: 0.5662\n",
            "Epoch 45/100\n",
            "1563/1563 [==============================] - 35s 23ms/step - loss: 1.3383 - accuracy: 0.5236 - val_loss: 1.2371 - val_accuracy: 0.5642\n",
            "Epoch 46/100\n",
            "1563/1563 [==============================] - 35s 23ms/step - loss: 1.3345 - accuracy: 0.5217 - val_loss: 1.1778 - val_accuracy: 0.5914\n",
            "Epoch 47/100\n",
            "1563/1563 [==============================] - 36s 23ms/step - loss: 1.3344 - accuracy: 0.5264 - val_loss: 1.1546 - val_accuracy: 0.5917\n",
            "Epoch 48/100\n",
            "1563/1563 [==============================] - 35s 23ms/step - loss: 1.3287 - accuracy: 0.5264 - val_loss: 1.1615 - val_accuracy: 0.5861\n",
            "Epoch 49/100\n",
            "1563/1563 [==============================] - 35s 22ms/step - loss: 1.3258 - accuracy: 0.5268 - val_loss: 1.1376 - val_accuracy: 0.6097\n",
            "Epoch 50/100\n",
            "1563/1563 [==============================] - 35s 22ms/step - loss: 1.3144 - accuracy: 0.5309 - val_loss: 1.2541 - val_accuracy: 0.5650\n",
            "Epoch 51/100\n",
            "1563/1563 [==============================] - 35s 23ms/step - loss: 1.3132 - accuracy: 0.5329 - val_loss: 1.1352 - val_accuracy: 0.5968\n",
            "Epoch 52/100\n",
            "1563/1563 [==============================] - 33s 21ms/step - loss: 1.3064 - accuracy: 0.5347 - val_loss: 1.1124 - val_accuracy: 0.6093\n",
            "Epoch 53/100\n",
            "1563/1563 [==============================] - 34s 21ms/step - loss: 1.3028 - accuracy: 0.5384 - val_loss: 1.1528 - val_accuracy: 0.5903\n",
            "Epoch 54/100\n",
            "1563/1563 [==============================] - 34s 22ms/step - loss: 1.3018 - accuracy: 0.5364 - val_loss: 1.1722 - val_accuracy: 0.5846\n",
            "Epoch 55/100\n",
            "1563/1563 [==============================] - 34s 22ms/step - loss: 1.2983 - accuracy: 0.5395 - val_loss: 1.1916 - val_accuracy: 0.5880\n",
            "Epoch 56/100\n",
            "1563/1563 [==============================] - 35s 22ms/step - loss: 1.2963 - accuracy: 0.5381 - val_loss: 1.1100 - val_accuracy: 0.6130\n",
            "Epoch 57/100\n",
            "1563/1563 [==============================] - 36s 23ms/step - loss: 1.2929 - accuracy: 0.5402 - val_loss: 1.1490 - val_accuracy: 0.5936\n",
            "Epoch 58/100\n",
            "1563/1563 [==============================] - 36s 23ms/step - loss: 1.2863 - accuracy: 0.5433 - val_loss: 1.2351 - val_accuracy: 0.5729\n",
            "Epoch 59/100\n",
            "1563/1563 [==============================] - 35s 22ms/step - loss: 1.2814 - accuracy: 0.5474 - val_loss: 1.1567 - val_accuracy: 0.6052\n",
            "Epoch 60/100\n",
            "1563/1563 [==============================] - 35s 22ms/step - loss: 1.2798 - accuracy: 0.5461 - val_loss: 1.1570 - val_accuracy: 0.5937\n",
            "Epoch 61/100\n",
            "1563/1563 [==============================] - 35s 23ms/step - loss: 1.2773 - accuracy: 0.5466 - val_loss: 1.1952 - val_accuracy: 0.5784\n",
            "Epoch 62/100\n",
            "1563/1563 [==============================] - 36s 23ms/step - loss: 1.2754 - accuracy: 0.5486 - val_loss: 1.2088 - val_accuracy: 0.5684\n",
            "Epoch 63/100\n",
            "1563/1563 [==============================] - 35s 23ms/step - loss: 1.2755 - accuracy: 0.5488 - val_loss: 1.1066 - val_accuracy: 0.6135\n",
            "Epoch 64/100\n",
            "1563/1563 [==============================] - 35s 23ms/step - loss: 1.2713 - accuracy: 0.5514 - val_loss: 1.1441 - val_accuracy: 0.5946\n",
            "Epoch 65/100\n",
            "1563/1563 [==============================] - 35s 22ms/step - loss: 1.2669 - accuracy: 0.5513 - val_loss: 1.0853 - val_accuracy: 0.6197\n",
            "Epoch 66/100\n",
            "1563/1563 [==============================] - 36s 23ms/step - loss: 1.2682 - accuracy: 0.5523 - val_loss: 1.1670 - val_accuracy: 0.6083\n",
            "Epoch 67/100\n",
            "1563/1563 [==============================] - 35s 22ms/step - loss: 1.2666 - accuracy: 0.5539 - val_loss: 1.1696 - val_accuracy: 0.5922\n",
            "Epoch 68/100\n",
            "1563/1563 [==============================] - 35s 22ms/step - loss: 1.2591 - accuracy: 0.5559 - val_loss: 1.1344 - val_accuracy: 0.5934\n",
            "Epoch 69/100\n",
            "1563/1563 [==============================] - 35s 22ms/step - loss: 1.2554 - accuracy: 0.5560 - val_loss: 1.0683 - val_accuracy: 0.6303\n",
            "Epoch 70/100\n",
            "1563/1563 [==============================] - 35s 22ms/step - loss: 1.2626 - accuracy: 0.5557 - val_loss: 1.1641 - val_accuracy: 0.6029\n",
            "Epoch 71/100\n",
            "1563/1563 [==============================] - 35s 23ms/step - loss: 1.2572 - accuracy: 0.5577 - val_loss: 1.0784 - val_accuracy: 0.6280\n",
            "Epoch 72/100\n",
            "1563/1563 [==============================] - 36s 23ms/step - loss: 1.2534 - accuracy: 0.5598 - val_loss: 1.1668 - val_accuracy: 0.5974\n",
            "Epoch 73/100\n",
            "1563/1563 [==============================] - 35s 23ms/step - loss: 1.2501 - accuracy: 0.5587 - val_loss: 1.1379 - val_accuracy: 0.6101\n",
            "Epoch 74/100\n",
            "1563/1563 [==============================] - 35s 23ms/step - loss: 1.2523 - accuracy: 0.5587 - val_loss: 1.0806 - val_accuracy: 0.6263\n",
            "Epoch 75/100\n",
            "1563/1563 [==============================] - 35s 22ms/step - loss: 1.2548 - accuracy: 0.5589 - val_loss: 1.0714 - val_accuracy: 0.6419\n",
            "Epoch 76/100\n",
            "1563/1563 [==============================] - 35s 22ms/step - loss: 1.2466 - accuracy: 0.5625 - val_loss: 1.0799 - val_accuracy: 0.6322\n",
            "Epoch 77/100\n",
            "1563/1563 [==============================] - 35s 22ms/step - loss: 1.2435 - accuracy: 0.5632 - val_loss: 1.1858 - val_accuracy: 0.5818\n",
            "Epoch 78/100\n",
            "1563/1563 [==============================] - 35s 22ms/step - loss: 1.2428 - accuracy: 0.5628 - val_loss: 1.0824 - val_accuracy: 0.6360\n",
            "Epoch 79/100\n",
            "1563/1563 [==============================] - 35s 22ms/step - loss: 1.2423 - accuracy: 0.5651 - val_loss: 1.1046 - val_accuracy: 0.6167\n",
            "Epoch 80/100\n",
            "1563/1563 [==============================] - 35s 22ms/step - loss: 1.2405 - accuracy: 0.5645 - val_loss: 1.1788 - val_accuracy: 0.6048\n",
            "Epoch 81/100\n",
            "1563/1563 [==============================] - 35s 22ms/step - loss: 1.2489 - accuracy: 0.5628 - val_loss: 1.1105 - val_accuracy: 0.6259\n",
            "Epoch 82/100\n",
            "1563/1563 [==============================] - 36s 23ms/step - loss: 1.2411 - accuracy: 0.5666 - val_loss: 1.1619 - val_accuracy: 0.6016\n",
            "Epoch 83/100\n",
            "1563/1563 [==============================] - 36s 23ms/step - loss: 1.2400 - accuracy: 0.5651 - val_loss: 1.0449 - val_accuracy: 0.6433\n",
            "Epoch 84/100\n",
            "1563/1563 [==============================] - 35s 22ms/step - loss: 1.2370 - accuracy: 0.5687 - val_loss: 1.0806 - val_accuracy: 0.6327\n",
            "Epoch 85/100\n",
            "1563/1563 [==============================] - 35s 23ms/step - loss: 1.2367 - accuracy: 0.5674 - val_loss: 1.0790 - val_accuracy: 0.6252\n",
            "Epoch 86/100\n",
            "1563/1563 [==============================] - 35s 23ms/step - loss: 1.2340 - accuracy: 0.5689 - val_loss: 1.0909 - val_accuracy: 0.6272\n",
            "Epoch 87/100\n",
            "1563/1563 [==============================] - 35s 22ms/step - loss: 1.2362 - accuracy: 0.5653 - val_loss: 1.0861 - val_accuracy: 0.6191\n",
            "Epoch 88/100\n",
            "1563/1563 [==============================] - 35s 22ms/step - loss: 1.2349 - accuracy: 0.5668 - val_loss: 1.0826 - val_accuracy: 0.6310\n",
            "Epoch 89/100\n",
            "1563/1563 [==============================] - 35s 22ms/step - loss: 1.2295 - accuracy: 0.5716 - val_loss: 1.1828 - val_accuracy: 0.6277\n",
            "Epoch 90/100\n",
            "1563/1563 [==============================] - 35s 22ms/step - loss: 1.2339 - accuracy: 0.5693 - val_loss: 1.1822 - val_accuracy: 0.5960\n",
            "Epoch 91/100\n",
            "1563/1563 [==============================] - 34s 22ms/step - loss: 1.2296 - accuracy: 0.5702 - val_loss: 1.0884 - val_accuracy: 0.6206\n",
            "Epoch 92/100\n",
            "1563/1563 [==============================] - 35s 23ms/step - loss: 1.2334 - accuracy: 0.5692 - val_loss: 1.0833 - val_accuracy: 0.6305\n",
            "Epoch 93/100\n",
            "1563/1563 [==============================] - 34s 22ms/step - loss: 1.2333 - accuracy: 0.5719 - val_loss: 1.1351 - val_accuracy: 0.6127\n",
            "Epoch 94/100\n",
            "1563/1563 [==============================] - 35s 22ms/step - loss: 1.2258 - accuracy: 0.5722 - val_loss: 1.0596 - val_accuracy: 0.6349\n",
            "Epoch 95/100\n",
            "1563/1563 [==============================] - 35s 23ms/step - loss: 1.2316 - accuracy: 0.5693 - val_loss: 1.1155 - val_accuracy: 0.6377\n",
            "Epoch 96/100\n",
            "1563/1563 [==============================] - 35s 23ms/step - loss: 1.2328 - accuracy: 0.5706 - val_loss: 1.0502 - val_accuracy: 0.6373\n",
            "Epoch 97/100\n",
            "1563/1563 [==============================] - 35s 22ms/step - loss: 1.2380 - accuracy: 0.5697 - val_loss: 1.0625 - val_accuracy: 0.6405\n",
            "Epoch 98/100\n",
            "1563/1563 [==============================] - 35s 22ms/step - loss: 1.2266 - accuracy: 0.5727 - val_loss: 1.1065 - val_accuracy: 0.6210\n",
            "Epoch 99/100\n",
            "1563/1563 [==============================] - 35s 22ms/step - loss: 1.2342 - accuracy: 0.5695 - val_loss: 1.0728 - val_accuracy: 0.6265\n",
            "Epoch 100/100\n",
            "1563/1563 [==============================] - 34s 22ms/step - loss: 1.2337 - accuracy: 0.5676 - val_loss: 1.0434 - val_accuracy: 0.6502\n"
          ],
          "name": "stdout"
        }
      ]
    },
    {
      "cell_type": "code",
      "metadata": {
        "id": "slGggjyl_9c3",
        "outputId": "1851447c-73b4-4a6f-ebfc-f8c4f3bf6ad1",
        "colab": {
          "base_uri": "https://localhost:8080/",
          "height": 34
        }
      },
      "source": [
        "# Save model and weights\n",
        "model_name = 'keras_cifar10_trained_model_dropout_aug.h5'\n",
        "if not os.path.isdir(save_dir):\n",
        "    os.makedirs(save_dir)\n",
        "model_path = os.path.join(save_dir, model_name)\n",
        "model.save(model_path)\n",
        "print('Saved trained model at %s ' % model_path)\n"
      ],
      "execution_count": 75,
      "outputs": [
        {
          "output_type": "stream",
          "text": [
            "Saved trained model at /content/drive/My Drive/Colab Notebooks/saved_models/keras_cifar10_trained_model_dropout_aug.h5 \n"
          ],
          "name": "stdout"
        }
      ]
    },
    {
      "cell_type": "code",
      "metadata": {
        "id": "kyXgprRCRLCt",
        "outputId": "4fea4d3e-1196-4865-d11b-4d998b89cf51",
        "colab": {
          "base_uri": "https://localhost:8080/",
          "height": 1000
        }
      },
      "source": [
        "# Parameters\n",
        "epochs=100\n",
        "data_augmentation=False\n",
        "\n",
        "model_dropout_no_aug = Sequential()\n",
        "model_dropout_no_aug.add(Conv2D(32, (3, 3), padding='same',\n",
        "                 input_shape=x_train.shape[1:]))\n",
        "model_dropout_no_aug.add(Activation('relu'))\n",
        "model_dropout_no_aug.add(Conv2D(32, (3, 3)))\n",
        "model_dropout_no_aug.add(Activation('relu'))\n",
        "model_dropout_no_aug.add(MaxPooling2D(pool_size=(2, 2)))\n",
        "model_dropout_no_aug.add(Dropout(0.5))\n",
        "\n",
        "model_dropout_no_aug.add(Conv2D(64, (3, 3), padding='same'))\n",
        "model_dropout_no_aug.add(Activation('relu'))\n",
        "model_dropout_no_aug.add(Conv2D(64, (3, 3)))\n",
        "model_dropout_no_aug.add(Activation('relu'))\n",
        "model_dropout_no_aug.add(MaxPooling2D(pool_size=(2, 2)))\n",
        "model_dropout_no_aug.add(Dropout(0.5))\n",
        "\n",
        "model_dropout_no_aug.add(Flatten())\n",
        "model_dropout_no_aug.add(Dense(512))\n",
        "model_dropout_no_aug.add(Activation('relu'))\n",
        "model_dropout_no_aug.add(Dropout(0.5))\n",
        "model_dropout_no_aug.add(Dense(num_classes))\n",
        "model_dropout_no_aug.add(Activation('softmax'))\n",
        "\n",
        "# initiate RMSprop optimizer\n",
        "opt = keras.optimizers.RMSprop(learning_rate=0.0001, decay=1e-6)\n",
        "\n",
        "# Let's train the model using RMSprop\n",
        "model_dropout_no_aug.compile(loss='categorical_crossentropy',\n",
        "              optimizer=opt,\n",
        "              metrics=['accuracy'])\n",
        "\n",
        "if not data_augmentation:\n",
        "    print('Not using data augmentation.')\n",
        "    history_dropout_no_aug = model_dropout_no_aug.fit(x_train, y_train,\n",
        "              batch_size=batch_size,\n",
        "              epochs=epochs,\n",
        "              validation_data=(x_test, y_test),\n",
        "              shuffle=True)\n",
        "else:\n",
        "    print('Using real-time data augmentation.')\n",
        "    # This will do preprocessing and realtime data augmentation:\n",
        "    datagen = ImageDataGenerator(\n",
        "        featurewise_center=False,  # set input mean to 0 over the dataset\n",
        "        samplewise_center=False,  # set each sample mean to 0\n",
        "        featurewise_std_normalization=False,  # divide inputs by std of the dataset\n",
        "        samplewise_std_normalization=False,  # divide each input by its std\n",
        "        zca_whitening=False,  # apply ZCA whitening\n",
        "        zca_epsilon=1e-06,  # epsilon for ZCA whitening\n",
        "        rotation_range=0,  # randomly rotate images in the range (degrees, 0 to 180)\n",
        "        # randomly shift images horizontally (fraction of total width)\n",
        "        width_shift_range=0.1,\n",
        "        # randomly shift images vertically (fraction of total height)\n",
        "        height_shift_range=0.1,\n",
        "        shear_range=0.,  # set range for random shear\n",
        "        zoom_range=0.,  # set range for random zoom\n",
        "        channel_shift_range=0.,  # set range for random channel shifts\n",
        "        # set mode for filling points outside the input boundaries\n",
        "        fill_mode='nearest',\n",
        "        cval=0.,  # value used for fill_mode = \"constant\"\n",
        "        horizontal_flip=True,  # randomly flip images\n",
        "        vertical_flip=False,  # randomly flip images\n",
        "        # set rescaling factor (applied before any other transformation)\n",
        "        rescale=None,\n",
        "        # set function that will be applied on each input\n",
        "        preprocessing_function=None,\n",
        "        # image data format, either \"channels_first\" or \"channels_last\"\n",
        "        data_format=None,\n",
        "        # fraction of images reserved for validation (strictly between 0 and 1)\n",
        "        validation_split=0.0)\n",
        "\n",
        "    # Compute quantities required for feature-wise normalization\n",
        "    # (std, mean, and principal components if ZCA whitening is applied).\n",
        "    datagen.fit(x_train)\n",
        "\n",
        "    # Fit the model on the batches generated by datagen.flow().\n",
        "    history_dropout_no_aug = model_dropout_no_aug.fit_generator(datagen.flow(x_train, y_train,\n",
        "                                     batch_size=batch_size),\n",
        "                        epochs=epochs,\n",
        "                        validation_data=(x_test, y_test),\n",
        "                        workers=4)"
      ],
      "execution_count": 68,
      "outputs": [
        {
          "output_type": "stream",
          "text": [
            "Not using data augmentation.\n",
            "Epoch 1/100\n",
            "1563/1563 [==============================] - 11s 7ms/step - loss: 2.1923 - accuracy: 0.1813 - val_loss: 2.0217 - val_accuracy: 0.2733\n",
            "Epoch 2/100\n",
            "1563/1563 [==============================] - 11s 7ms/step - loss: 2.0262 - accuracy: 0.2612 - val_loss: 1.9834 - val_accuracy: 0.2791\n",
            "Epoch 3/100\n",
            "1563/1563 [==============================] - 11s 7ms/step - loss: 1.9531 - accuracy: 0.2939 - val_loss: 1.8855 - val_accuracy: 0.3182\n",
            "Epoch 4/100\n",
            "1563/1563 [==============================] - 11s 7ms/step - loss: 1.8812 - accuracy: 0.3210 - val_loss: 1.8168 - val_accuracy: 0.3483\n",
            "Epoch 5/100\n",
            "1563/1563 [==============================] - 11s 7ms/step - loss: 1.8223 - accuracy: 0.3424 - val_loss: 1.8929 - val_accuracy: 0.3290\n",
            "Epoch 6/100\n",
            "1563/1563 [==============================] - 11s 7ms/step - loss: 1.7741 - accuracy: 0.3601 - val_loss: 1.7236 - val_accuracy: 0.3813\n",
            "Epoch 7/100\n",
            "1563/1563 [==============================] - 11s 7ms/step - loss: 1.7337 - accuracy: 0.3738 - val_loss: 1.6423 - val_accuracy: 0.4078\n",
            "Epoch 8/100\n",
            "1563/1563 [==============================] - 11s 7ms/step - loss: 1.6931 - accuracy: 0.3893 - val_loss: 1.6008 - val_accuracy: 0.4198\n",
            "Epoch 9/100\n",
            "1563/1563 [==============================] - 11s 7ms/step - loss: 1.6622 - accuracy: 0.3966 - val_loss: 1.6000 - val_accuracy: 0.4196\n",
            "Epoch 10/100\n",
            "1563/1563 [==============================] - 11s 7ms/step - loss: 1.6338 - accuracy: 0.4077 - val_loss: 1.5318 - val_accuracy: 0.4466\n",
            "Epoch 11/100\n",
            "1563/1563 [==============================] - 11s 7ms/step - loss: 1.6079 - accuracy: 0.4200 - val_loss: 1.5475 - val_accuracy: 0.4511\n",
            "Epoch 12/100\n",
            "1563/1563 [==============================] - 11s 7ms/step - loss: 1.5847 - accuracy: 0.4298 - val_loss: 1.4967 - val_accuracy: 0.4618\n",
            "Epoch 13/100\n",
            "1563/1563 [==============================] - 11s 7ms/step - loss: 1.5613 - accuracy: 0.4374 - val_loss: 1.6001 - val_accuracy: 0.4343\n",
            "Epoch 14/100\n",
            "1563/1563 [==============================] - 11s 7ms/step - loss: 1.5422 - accuracy: 0.4471 - val_loss: 1.4521 - val_accuracy: 0.4783\n",
            "Epoch 15/100\n",
            "1563/1563 [==============================] - 11s 7ms/step - loss: 1.5246 - accuracy: 0.4484 - val_loss: 1.5189 - val_accuracy: 0.4567\n",
            "Epoch 16/100\n",
            "1563/1563 [==============================] - 11s 7ms/step - loss: 1.5028 - accuracy: 0.4588 - val_loss: 1.4200 - val_accuracy: 0.4903\n",
            "Epoch 17/100\n",
            "1563/1563 [==============================] - 11s 7ms/step - loss: 1.4880 - accuracy: 0.4649 - val_loss: 1.4713 - val_accuracy: 0.4716\n",
            "Epoch 18/100\n",
            "1563/1563 [==============================] - 11s 7ms/step - loss: 1.4743 - accuracy: 0.4713 - val_loss: 1.3887 - val_accuracy: 0.4991\n",
            "Epoch 19/100\n",
            "1563/1563 [==============================] - 11s 7ms/step - loss: 1.4635 - accuracy: 0.4743 - val_loss: 1.3804 - val_accuracy: 0.5027\n",
            "Epoch 20/100\n",
            "1563/1563 [==============================] - 11s 7ms/step - loss: 1.4476 - accuracy: 0.4798 - val_loss: 1.3829 - val_accuracy: 0.5012\n",
            "Epoch 21/100\n",
            "1563/1563 [==============================] - 11s 7ms/step - loss: 1.4351 - accuracy: 0.4868 - val_loss: 1.3596 - val_accuracy: 0.5129\n",
            "Epoch 22/100\n",
            "1563/1563 [==============================] - 11s 7ms/step - loss: 1.4265 - accuracy: 0.4857 - val_loss: 1.3378 - val_accuracy: 0.5220\n",
            "Epoch 23/100\n",
            "1563/1563 [==============================] - 11s 7ms/step - loss: 1.4143 - accuracy: 0.4917 - val_loss: 1.3349 - val_accuracy: 0.5194\n",
            "Epoch 24/100\n",
            "1563/1563 [==============================] - 11s 7ms/step - loss: 1.4064 - accuracy: 0.4951 - val_loss: 1.3133 - val_accuracy: 0.5297\n",
            "Epoch 25/100\n",
            "1563/1563 [==============================] - 11s 7ms/step - loss: 1.3962 - accuracy: 0.4991 - val_loss: 1.3175 - val_accuracy: 0.5240\n",
            "Epoch 26/100\n",
            "1563/1563 [==============================] - 11s 7ms/step - loss: 1.3863 - accuracy: 0.5046 - val_loss: 1.3183 - val_accuracy: 0.5252\n",
            "Epoch 27/100\n",
            "1563/1563 [==============================] - 11s 7ms/step - loss: 1.3758 - accuracy: 0.5077 - val_loss: 1.4270 - val_accuracy: 0.4954\n",
            "Epoch 28/100\n",
            "1563/1563 [==============================] - 11s 7ms/step - loss: 1.3679 - accuracy: 0.5098 - val_loss: 1.3008 - val_accuracy: 0.5373\n",
            "Epoch 29/100\n",
            "1563/1563 [==============================] - 11s 7ms/step - loss: 1.3620 - accuracy: 0.5131 - val_loss: 1.2830 - val_accuracy: 0.5402\n",
            "Epoch 30/100\n",
            "1563/1563 [==============================] - 11s 7ms/step - loss: 1.3482 - accuracy: 0.5151 - val_loss: 1.2588 - val_accuracy: 0.5488\n",
            "Epoch 31/100\n",
            "1563/1563 [==============================] - 11s 7ms/step - loss: 1.3400 - accuracy: 0.5235 - val_loss: 1.2997 - val_accuracy: 0.5381\n",
            "Epoch 32/100\n",
            "1563/1563 [==============================] - 11s 7ms/step - loss: 1.3346 - accuracy: 0.5211 - val_loss: 1.2586 - val_accuracy: 0.5523\n",
            "Epoch 33/100\n",
            "1563/1563 [==============================] - 11s 7ms/step - loss: 1.3268 - accuracy: 0.5252 - val_loss: 1.2598 - val_accuracy: 0.5457\n",
            "Epoch 34/100\n",
            "1563/1563 [==============================] - 11s 7ms/step - loss: 1.3171 - accuracy: 0.5298 - val_loss: 1.2767 - val_accuracy: 0.5426\n",
            "Epoch 35/100\n",
            "1563/1563 [==============================] - 11s 7ms/step - loss: 1.3077 - accuracy: 0.5338 - val_loss: 1.2220 - val_accuracy: 0.5678\n",
            "Epoch 36/100\n",
            "1563/1563 [==============================] - 11s 7ms/step - loss: 1.3030 - accuracy: 0.5352 - val_loss: 1.2883 - val_accuracy: 0.5329\n",
            "Epoch 37/100\n",
            "1563/1563 [==============================] - 11s 7ms/step - loss: 1.2954 - accuracy: 0.5393 - val_loss: 1.2834 - val_accuracy: 0.5545\n",
            "Epoch 38/100\n",
            "1563/1563 [==============================] - 11s 7ms/step - loss: 1.2897 - accuracy: 0.5404 - val_loss: 1.2615 - val_accuracy: 0.5576\n",
            "Epoch 39/100\n",
            "1563/1563 [==============================] - 11s 7ms/step - loss: 1.2809 - accuracy: 0.5444 - val_loss: 1.2110 - val_accuracy: 0.5712\n",
            "Epoch 40/100\n",
            "1563/1563 [==============================] - 11s 7ms/step - loss: 1.2741 - accuracy: 0.5467 - val_loss: 1.1781 - val_accuracy: 0.5778\n",
            "Epoch 41/100\n",
            "1563/1563 [==============================] - 11s 7ms/step - loss: 1.2715 - accuracy: 0.5498 - val_loss: 1.1965 - val_accuracy: 0.5779\n",
            "Epoch 42/100\n",
            "1563/1563 [==============================] - 11s 7ms/step - loss: 1.2632 - accuracy: 0.5523 - val_loss: 1.1766 - val_accuracy: 0.5861\n",
            "Epoch 43/100\n",
            "1563/1563 [==============================] - 11s 7ms/step - loss: 1.2546 - accuracy: 0.5539 - val_loss: 1.1651 - val_accuracy: 0.5939\n",
            "Epoch 44/100\n",
            "1563/1563 [==============================] - 11s 7ms/step - loss: 1.2496 - accuracy: 0.5581 - val_loss: 1.1832 - val_accuracy: 0.5776\n",
            "Epoch 45/100\n",
            "1563/1563 [==============================] - 11s 7ms/step - loss: 1.2433 - accuracy: 0.5618 - val_loss: 1.1717 - val_accuracy: 0.5844\n",
            "Epoch 46/100\n",
            "1563/1563 [==============================] - 11s 7ms/step - loss: 1.2363 - accuracy: 0.5609 - val_loss: 1.1943 - val_accuracy: 0.5789\n",
            "Epoch 47/100\n",
            "1563/1563 [==============================] - 11s 7ms/step - loss: 1.2301 - accuracy: 0.5626 - val_loss: 1.1363 - val_accuracy: 0.6021\n",
            "Epoch 48/100\n",
            "1563/1563 [==============================] - 11s 7ms/step - loss: 1.2291 - accuracy: 0.5636 - val_loss: 1.1720 - val_accuracy: 0.5921\n",
            "Epoch 49/100\n",
            "1563/1563 [==============================] - 11s 7ms/step - loss: 1.2184 - accuracy: 0.5688 - val_loss: 1.1455 - val_accuracy: 0.5936\n",
            "Epoch 50/100\n",
            "1563/1563 [==============================] - 11s 7ms/step - loss: 1.2145 - accuracy: 0.5698 - val_loss: 1.1521 - val_accuracy: 0.6005\n",
            "Epoch 51/100\n",
            "1563/1563 [==============================] - 11s 7ms/step - loss: 1.2112 - accuracy: 0.5708 - val_loss: 1.1616 - val_accuracy: 0.6010\n",
            "Epoch 52/100\n",
            "1563/1563 [==============================] - 11s 7ms/step - loss: 1.2060 - accuracy: 0.5716 - val_loss: 1.1104 - val_accuracy: 0.6110\n",
            "Epoch 53/100\n",
            "1563/1563 [==============================] - 11s 7ms/step - loss: 1.2052 - accuracy: 0.5753 - val_loss: 1.1290 - val_accuracy: 0.6190\n",
            "Epoch 54/100\n",
            "1563/1563 [==============================] - 11s 7ms/step - loss: 1.1965 - accuracy: 0.5774 - val_loss: 1.0794 - val_accuracy: 0.6175\n",
            "Epoch 55/100\n",
            "1563/1563 [==============================] - 11s 7ms/step - loss: 1.1944 - accuracy: 0.5779 - val_loss: 1.1050 - val_accuracy: 0.6244\n",
            "Epoch 56/100\n",
            "1563/1563 [==============================] - 11s 7ms/step - loss: 1.1914 - accuracy: 0.5822 - val_loss: 1.1441 - val_accuracy: 0.6139\n",
            "Epoch 57/100\n",
            "1563/1563 [==============================] - 11s 7ms/step - loss: 1.1814 - accuracy: 0.5847 - val_loss: 1.1884 - val_accuracy: 0.5875\n",
            "Epoch 58/100\n",
            "1563/1563 [==============================] - 11s 7ms/step - loss: 1.1752 - accuracy: 0.5869 - val_loss: 1.2257 - val_accuracy: 0.5777\n",
            "Epoch 59/100\n",
            "1563/1563 [==============================] - 11s 7ms/step - loss: 1.1755 - accuracy: 0.5872 - val_loss: 1.1301 - val_accuracy: 0.6156\n",
            "Epoch 60/100\n",
            "1563/1563 [==============================] - 11s 7ms/step - loss: 1.1751 - accuracy: 0.5878 - val_loss: 1.1288 - val_accuracy: 0.6025\n",
            "Epoch 61/100\n",
            "1563/1563 [==============================] - 11s 7ms/step - loss: 1.1690 - accuracy: 0.5907 - val_loss: 1.0993 - val_accuracy: 0.6179\n",
            "Epoch 62/100\n",
            "1563/1563 [==============================] - 11s 7ms/step - loss: 1.1649 - accuracy: 0.5929 - val_loss: 1.1538 - val_accuracy: 0.6005\n",
            "Epoch 63/100\n",
            "1563/1563 [==============================] - 11s 7ms/step - loss: 1.1606 - accuracy: 0.5936 - val_loss: 1.0450 - val_accuracy: 0.6373\n",
            "Epoch 64/100\n",
            "1563/1563 [==============================] - 11s 7ms/step - loss: 1.1525 - accuracy: 0.5955 - val_loss: 1.1151 - val_accuracy: 0.6334\n",
            "Epoch 65/100\n",
            "1563/1563 [==============================] - 11s 7ms/step - loss: 1.1524 - accuracy: 0.5986 - val_loss: 1.0624 - val_accuracy: 0.6267\n",
            "Epoch 66/100\n",
            "1563/1563 [==============================] - 11s 7ms/step - loss: 1.1538 - accuracy: 0.5970 - val_loss: 1.0527 - val_accuracy: 0.6317\n",
            "Epoch 67/100\n",
            "1563/1563 [==============================] - 11s 7ms/step - loss: 1.1468 - accuracy: 0.6001 - val_loss: 1.0782 - val_accuracy: 0.6301\n",
            "Epoch 68/100\n",
            "1563/1563 [==============================] - 11s 7ms/step - loss: 1.1404 - accuracy: 0.6020 - val_loss: 1.0569 - val_accuracy: 0.6405\n",
            "Epoch 69/100\n",
            "1563/1563 [==============================] - 11s 7ms/step - loss: 1.1381 - accuracy: 0.6042 - val_loss: 1.0757 - val_accuracy: 0.6275\n",
            "Epoch 70/100\n",
            "1563/1563 [==============================] - 11s 7ms/step - loss: 1.1431 - accuracy: 0.6002 - val_loss: 1.0832 - val_accuracy: 0.6381\n",
            "Epoch 71/100\n",
            "1563/1563 [==============================] - 11s 7ms/step - loss: 1.1373 - accuracy: 0.6045 - val_loss: 1.0380 - val_accuracy: 0.6432\n",
            "Epoch 72/100\n",
            "1563/1563 [==============================] - 11s 7ms/step - loss: 1.1351 - accuracy: 0.6035 - val_loss: 1.0277 - val_accuracy: 0.6470\n",
            "Epoch 73/100\n",
            "1563/1563 [==============================] - 11s 7ms/step - loss: 1.1260 - accuracy: 0.6050 - val_loss: 1.0855 - val_accuracy: 0.6256\n",
            "Epoch 74/100\n",
            "1563/1563 [==============================] - 11s 7ms/step - loss: 1.1255 - accuracy: 0.6095 - val_loss: 1.0888 - val_accuracy: 0.6172\n",
            "Epoch 75/100\n",
            "1563/1563 [==============================] - 11s 7ms/step - loss: 1.1280 - accuracy: 0.6073 - val_loss: 1.0183 - val_accuracy: 0.6492\n",
            "Epoch 76/100\n",
            "1563/1563 [==============================] - 11s 7ms/step - loss: 1.1192 - accuracy: 0.6096 - val_loss: 1.1050 - val_accuracy: 0.6195\n",
            "Epoch 77/100\n",
            "1563/1563 [==============================] - 11s 7ms/step - loss: 1.1222 - accuracy: 0.6079 - val_loss: 1.1045 - val_accuracy: 0.6309\n",
            "Epoch 78/100\n",
            "1563/1563 [==============================] - 11s 7ms/step - loss: 1.1217 - accuracy: 0.6085 - val_loss: 1.1340 - val_accuracy: 0.6106\n",
            "Epoch 79/100\n",
            "1563/1563 [==============================] - 11s 7ms/step - loss: 1.1203 - accuracy: 0.6089 - val_loss: 1.0737 - val_accuracy: 0.6306\n",
            "Epoch 80/100\n",
            "1563/1563 [==============================] - 11s 7ms/step - loss: 1.1154 - accuracy: 0.6121 - val_loss: 1.1993 - val_accuracy: 0.5878\n",
            "Epoch 81/100\n",
            "1563/1563 [==============================] - 11s 7ms/step - loss: 1.1183 - accuracy: 0.6096 - val_loss: 1.1497 - val_accuracy: 0.6415\n",
            "Epoch 82/100\n",
            "1563/1563 [==============================] - 11s 7ms/step - loss: 1.1122 - accuracy: 0.6160 - val_loss: 0.9887 - val_accuracy: 0.6671\n",
            "Epoch 83/100\n",
            "1563/1563 [==============================] - 11s 7ms/step - loss: 1.1135 - accuracy: 0.6122 - val_loss: 1.1095 - val_accuracy: 0.6197\n",
            "Epoch 84/100\n",
            "1563/1563 [==============================] - 11s 7ms/step - loss: 1.1121 - accuracy: 0.6137 - val_loss: 1.0843 - val_accuracy: 0.6309\n",
            "Epoch 85/100\n",
            "1563/1563 [==============================] - 11s 7ms/step - loss: 1.1139 - accuracy: 0.6150 - val_loss: 1.0497 - val_accuracy: 0.6444\n",
            "Epoch 86/100\n",
            "1563/1563 [==============================] - 11s 7ms/step - loss: 1.1122 - accuracy: 0.6137 - val_loss: 1.1466 - val_accuracy: 0.6440\n",
            "Epoch 87/100\n",
            "1563/1563 [==============================] - 11s 7ms/step - loss: 1.1085 - accuracy: 0.6156 - val_loss: 1.2135 - val_accuracy: 0.5942\n",
            "Epoch 88/100\n",
            "1563/1563 [==============================] - 11s 7ms/step - loss: 1.1104 - accuracy: 0.6142 - val_loss: 1.0074 - val_accuracy: 0.6539\n",
            "Epoch 89/100\n",
            "1563/1563 [==============================] - 11s 7ms/step - loss: 1.1080 - accuracy: 0.6188 - val_loss: 1.0244 - val_accuracy: 0.6618\n",
            "Epoch 90/100\n",
            "1563/1563 [==============================] - 11s 7ms/step - loss: 1.0989 - accuracy: 0.6213 - val_loss: 1.0185 - val_accuracy: 0.6474\n",
            "Epoch 91/100\n",
            "1563/1563 [==============================] - 11s 7ms/step - loss: 1.1036 - accuracy: 0.6196 - val_loss: 1.1067 - val_accuracy: 0.6480\n",
            "Epoch 92/100\n",
            "1563/1563 [==============================] - 11s 7ms/step - loss: 1.1029 - accuracy: 0.6197 - val_loss: 1.1502 - val_accuracy: 0.6151\n",
            "Epoch 93/100\n",
            "1563/1563 [==============================] - 11s 7ms/step - loss: 1.0986 - accuracy: 0.6205 - val_loss: 1.0411 - val_accuracy: 0.6585\n",
            "Epoch 94/100\n",
            "1563/1563 [==============================] - 11s 7ms/step - loss: 1.1016 - accuracy: 0.6204 - val_loss: 1.0747 - val_accuracy: 0.6349\n",
            "Epoch 95/100\n",
            "1563/1563 [==============================] - 11s 7ms/step - loss: 1.1012 - accuracy: 0.6211 - val_loss: 1.1944 - val_accuracy: 0.5980\n",
            "Epoch 96/100\n",
            "1563/1563 [==============================] - 11s 7ms/step - loss: 1.0964 - accuracy: 0.6186 - val_loss: 1.0166 - val_accuracy: 0.6504\n",
            "Epoch 97/100\n",
            "1563/1563 [==============================] - 11s 7ms/step - loss: 1.0947 - accuracy: 0.6223 - val_loss: 1.0343 - val_accuracy: 0.6522\n",
            "Epoch 98/100\n",
            "1563/1563 [==============================] - 11s 7ms/step - loss: 1.0955 - accuracy: 0.6211 - val_loss: 1.0570 - val_accuracy: 0.6331\n",
            "Epoch 99/100\n",
            "1563/1563 [==============================] - 12s 7ms/step - loss: 1.0940 - accuracy: 0.6206 - val_loss: 1.0646 - val_accuracy: 0.6271\n",
            "Epoch 100/100\n",
            "1563/1563 [==============================] - 11s 7ms/step - loss: 1.0956 - accuracy: 0.6214 - val_loss: 1.1525 - val_accuracy: 0.5981\n"
          ],
          "name": "stdout"
        }
      ]
    },
    {
      "cell_type": "code",
      "metadata": {
        "id": "xkC_S3WdAEGK",
        "outputId": "f31e6c0f-4355-4fae-d8fa-6723f5748567",
        "colab": {
          "base_uri": "https://localhost:8080/",
          "height": 34
        }
      },
      "source": [
        "# Save model and weights\n",
        "model_name = 'keras_cifar10_trained_model_dropout_no_aug.h5'\n",
        "if not os.path.isdir(save_dir):\n",
        "    os.makedirs(save_dir)\n",
        "model_path = os.path.join(save_dir, model_name)\n",
        "model.save(model_path)\n",
        "print('Saved trained model at %s ' % model_path)\n"
      ],
      "execution_count": 76,
      "outputs": [
        {
          "output_type": "stream",
          "text": [
            "Saved trained model at /content/drive/My Drive/Colab Notebooks/saved_models/keras_cifar10_trained_model_dropout_no_aug.h5 \n"
          ],
          "name": "stdout"
        }
      ]
    },
    {
      "cell_type": "code",
      "metadata": {
        "id": "e1WTWf6ddXXC",
        "outputId": "690e8a08-6c82-4fb1-db17-3d33ead25f9f",
        "colab": {
          "base_uri": "https://localhost:8080/",
          "height": 1000
        }
      },
      "source": [
        "# Parameters\n",
        "epochs=100\n",
        "data_augmentation=False\n",
        "\n",
        "model_no_dropout_no_aug = Sequential()\n",
        "model_no_dropout_no_aug.add(Conv2D(32, (3, 3), padding='same',\n",
        "                 input_shape=x_train.shape[1:]))\n",
        "model_no_dropout_no_aug.add(Activation('relu'))\n",
        "model_no_dropout_no_aug.add(Conv2D(32, (3, 3)))\n",
        "model_no_dropout_no_aug.add(Activation('relu'))\n",
        "model_no_dropout_no_aug.add(MaxPooling2D(pool_size=(2, 2)))\n",
        "\n",
        "model_no_dropout_no_aug.add(Conv2D(64, (3, 3), padding='same'))\n",
        "model_no_dropout_no_aug.add(Activation('relu'))\n",
        "model_no_dropout_no_aug.add(Conv2D(64, (3, 3)))\n",
        "model_no_dropout_no_aug.add(Activation('relu'))\n",
        "model_no_dropout_no_aug.add(MaxPooling2D(pool_size=(2, 2)))\n",
        "\n",
        "model_no_dropout_no_aug.add(Flatten())\n",
        "model_no_dropout_no_aug.add(Dense(512))\n",
        "model_no_dropout_no_aug.add(Activation('relu'))\n",
        "\n",
        "model_no_dropout_no_aug.add(Dense(num_classes))\n",
        "model_no_dropout_no_aug.add(Activation('softmax'))\n",
        "\n",
        "# initiate RMSprop optimizer\n",
        "opt = keras.optimizers.RMSprop(learning_rate=0.0001, decay=1e-6)\n",
        "\n",
        "# Let's train the model using RMSprop\n",
        "model_no_dropout_no_aug.compile(loss='categorical_crossentropy',\n",
        "              optimizer=opt,\n",
        "              metrics=['accuracy'])\n",
        "\n",
        "if not data_augmentation:\n",
        "    print('Not using data augmentation.')\n",
        "    history_no_dropout_no_aug = model_no_dropout_no_aug.fit(x_train, y_train,\n",
        "              batch_size=batch_size,\n",
        "              epochs=epochs,\n",
        "              validation_data=(x_test, y_test),\n",
        "              shuffle=True)\n",
        "else:\n",
        "    print('Using real-time data augmentation.')\n",
        "    # This will do preprocessing and realtime data augmentation:\n",
        "    datagen = ImageDataGenerator(\n",
        "        featurewise_center=False,  # set input mean to 0 over the dataset\n",
        "        samplewise_center=False,  # set each sample mean to 0\n",
        "        featurewise_std_normalization=False,  # divide inputs by std of the dataset\n",
        "        samplewise_std_normalization=False,  # divide each input by its std\n",
        "        zca_whitening=False,  # apply ZCA whitening\n",
        "        zca_epsilon=1e-06,  # epsilon for ZCA whitening\n",
        "        rotation_range=0,  # randomly rotate images in the range (degrees, 0 to 180)\n",
        "        # randomly shift images horizontally (fraction of total width)\n",
        "        width_shift_range=0.1,\n",
        "        # randomly shift images vertically (fraction of total height)\n",
        "        height_shift_range=0.1,\n",
        "        shear_range=0.,  # set range for random shear\n",
        "        zoom_range=0.,  # set range for random zoom\n",
        "        channel_shift_range=0.,  # set range for random channel shifts\n",
        "        # set mode for filling points outside the input boundaries\n",
        "        fill_mode='nearest',\n",
        "        cval=0.,  # value used for fill_mode = \"constant\"\n",
        "        horizontal_flip=True,  # randomly flip images\n",
        "        vertical_flip=False,  # randomly flip images\n",
        "        # set rescaling factor (applied before any other transformation)\n",
        "        rescale=None,\n",
        "        # set function that will be applied on each input\n",
        "        preprocessing_function=None,\n",
        "        # image data format, either \"channels_first\" or \"channels_last\"\n",
        "        data_format=None,\n",
        "        # fraction of images reserved for validation (strictly between 0 and 1)\n",
        "        validation_split=0.0)\n",
        "\n",
        "    # Compute quantities required for feature-wise normalization\n",
        "    # (std, mean, and principal components if ZCA whitening is applied).\n",
        "    datagen.fit(x_train)\n",
        "\n",
        "    # Fit the model on the batches generated by datagen.flow().\n",
        "    history_no_dropout_no_aug = model_no_dropout_no_aug.fit_generator(datagen.flow(x_train, y_train,\n",
        "                                     batch_size=batch_size),\n",
        "                        epochs=epochs,\n",
        "                        validation_data=(x_test, y_test),\n",
        "                        workers=4)"
      ],
      "execution_count": 69,
      "outputs": [
        {
          "output_type": "stream",
          "text": [
            "Not using data augmentation.\n",
            "Epoch 1/100\n",
            "1563/1563 [==============================] - 10s 7ms/step - loss: 2.0986 - accuracy: 0.2342 - val_loss: 1.9675 - val_accuracy: 0.2954\n",
            "Epoch 2/100\n",
            "1563/1563 [==============================] - 10s 7ms/step - loss: 1.9395 - accuracy: 0.3069 - val_loss: 1.8549 - val_accuracy: 0.3423\n",
            "Epoch 3/100\n",
            "1563/1563 [==============================] - 10s 7ms/step - loss: 1.8270 - accuracy: 0.3492 - val_loss: 1.7631 - val_accuracy: 0.3777\n",
            "Epoch 4/100\n",
            "1563/1563 [==============================] - 10s 7ms/step - loss: 1.7408 - accuracy: 0.3815 - val_loss: 1.7182 - val_accuracy: 0.3841\n",
            "Epoch 5/100\n",
            "1563/1563 [==============================] - 11s 7ms/step - loss: 1.6713 - accuracy: 0.4057 - val_loss: 1.6220 - val_accuracy: 0.4227\n",
            "Epoch 6/100\n",
            "1563/1563 [==============================] - 10s 7ms/step - loss: 1.6079 - accuracy: 0.4276 - val_loss: 1.5525 - val_accuracy: 0.4498\n",
            "Epoch 7/100\n",
            "1563/1563 [==============================] - 10s 7ms/step - loss: 1.5516 - accuracy: 0.4491 - val_loss: 1.5377 - val_accuracy: 0.4504\n",
            "Epoch 8/100\n",
            "1563/1563 [==============================] - 11s 7ms/step - loss: 1.4911 - accuracy: 0.4698 - val_loss: 1.4473 - val_accuracy: 0.4751\n",
            "Epoch 9/100\n",
            "1563/1563 [==============================] - 10s 7ms/step - loss: 1.4419 - accuracy: 0.4887 - val_loss: 1.4480 - val_accuracy: 0.4779\n",
            "Epoch 10/100\n",
            "1563/1563 [==============================] - 10s 7ms/step - loss: 1.3971 - accuracy: 0.5037 - val_loss: 1.3854 - val_accuracy: 0.5027\n",
            "Epoch 11/100\n",
            "1563/1563 [==============================] - 10s 7ms/step - loss: 1.3600 - accuracy: 0.5191 - val_loss: 1.3770 - val_accuracy: 0.5070\n",
            "Epoch 12/100\n",
            "1563/1563 [==============================] - 10s 7ms/step - loss: 1.3215 - accuracy: 0.5313 - val_loss: 1.3439 - val_accuracy: 0.5235\n",
            "Epoch 13/100\n",
            "1563/1563 [==============================] - 10s 7ms/step - loss: 1.2878 - accuracy: 0.5426 - val_loss: 1.3291 - val_accuracy: 0.5233\n",
            "Epoch 14/100\n",
            "1563/1563 [==============================] - 10s 7ms/step - loss: 1.2548 - accuracy: 0.5562 - val_loss: 1.3150 - val_accuracy: 0.5317\n",
            "Epoch 15/100\n",
            "1563/1563 [==============================] - 11s 7ms/step - loss: 1.2229 - accuracy: 0.5679 - val_loss: 1.2695 - val_accuracy: 0.5470\n",
            "Epoch 16/100\n",
            "1563/1563 [==============================] - 11s 7ms/step - loss: 1.1892 - accuracy: 0.5810 - val_loss: 1.3203 - val_accuracy: 0.5340\n",
            "Epoch 17/100\n",
            "1563/1563 [==============================] - 10s 7ms/step - loss: 1.1594 - accuracy: 0.5927 - val_loss: 1.2103 - val_accuracy: 0.5756\n",
            "Epoch 18/100\n",
            "1563/1563 [==============================] - 10s 7ms/step - loss: 1.1271 - accuracy: 0.6044 - val_loss: 1.2184 - val_accuracy: 0.5662\n",
            "Epoch 19/100\n",
            "1563/1563 [==============================] - 11s 7ms/step - loss: 1.0961 - accuracy: 0.6167 - val_loss: 1.1871 - val_accuracy: 0.5819\n",
            "Epoch 20/100\n",
            "1563/1563 [==============================] - 10s 7ms/step - loss: 1.0676 - accuracy: 0.6244 - val_loss: 1.2200 - val_accuracy: 0.5680\n",
            "Epoch 21/100\n",
            "1563/1563 [==============================] - 11s 7ms/step - loss: 1.0388 - accuracy: 0.6365 - val_loss: 1.1540 - val_accuracy: 0.5930\n",
            "Epoch 22/100\n",
            "1563/1563 [==============================] - 11s 7ms/step - loss: 1.0107 - accuracy: 0.6481 - val_loss: 1.1318 - val_accuracy: 0.6027\n",
            "Epoch 23/100\n",
            "1563/1563 [==============================] - 11s 7ms/step - loss: 0.9813 - accuracy: 0.6585 - val_loss: 1.1534 - val_accuracy: 0.5986\n",
            "Epoch 24/100\n",
            "1563/1563 [==============================] - 11s 7ms/step - loss: 0.9558 - accuracy: 0.6695 - val_loss: 1.1642 - val_accuracy: 0.5962\n",
            "Epoch 25/100\n",
            "1563/1563 [==============================] - 11s 7ms/step - loss: 0.9268 - accuracy: 0.6776 - val_loss: 1.1548 - val_accuracy: 0.6023\n",
            "Epoch 26/100\n",
            "1563/1563 [==============================] - 10s 7ms/step - loss: 0.8988 - accuracy: 0.6880 - val_loss: 1.1508 - val_accuracy: 0.6056\n",
            "Epoch 27/100\n",
            "1563/1563 [==============================] - 11s 7ms/step - loss: 0.8717 - accuracy: 0.6995 - val_loss: 1.1203 - val_accuracy: 0.6130\n",
            "Epoch 28/100\n",
            "1563/1563 [==============================] - 11s 7ms/step - loss: 0.8421 - accuracy: 0.7092 - val_loss: 1.1566 - val_accuracy: 0.6058\n",
            "Epoch 29/100\n",
            "1563/1563 [==============================] - 11s 7ms/step - loss: 0.8157 - accuracy: 0.7196 - val_loss: 1.1693 - val_accuracy: 0.6081\n",
            "Epoch 30/100\n",
            "1563/1563 [==============================] - 11s 7ms/step - loss: 0.7872 - accuracy: 0.7304 - val_loss: 1.1479 - val_accuracy: 0.6158\n",
            "Epoch 31/100\n",
            "1563/1563 [==============================] - 11s 7ms/step - loss: 0.7598 - accuracy: 0.7377 - val_loss: 1.1272 - val_accuracy: 0.6207\n",
            "Epoch 32/100\n",
            "1563/1563 [==============================] - 11s 7ms/step - loss: 0.7339 - accuracy: 0.7485 - val_loss: 1.1795 - val_accuracy: 0.6120\n",
            "Epoch 33/100\n",
            "1563/1563 [==============================] - 11s 7ms/step - loss: 0.7053 - accuracy: 0.7570 - val_loss: 1.1658 - val_accuracy: 0.6173\n",
            "Epoch 34/100\n",
            "1563/1563 [==============================] - 11s 7ms/step - loss: 0.6768 - accuracy: 0.7690 - val_loss: 1.1243 - val_accuracy: 0.6293\n",
            "Epoch 35/100\n",
            "1563/1563 [==============================] - 11s 7ms/step - loss: 0.6498 - accuracy: 0.7776 - val_loss: 1.2239 - val_accuracy: 0.6096\n",
            "Epoch 36/100\n",
            "1563/1563 [==============================] - 11s 7ms/step - loss: 0.6229 - accuracy: 0.7884 - val_loss: 1.2447 - val_accuracy: 0.6094\n",
            "Epoch 37/100\n",
            "1563/1563 [==============================] - 11s 7ms/step - loss: 0.5953 - accuracy: 0.7981 - val_loss: 1.1957 - val_accuracy: 0.6248\n",
            "Epoch 38/100\n",
            "1563/1563 [==============================] - 11s 7ms/step - loss: 0.5681 - accuracy: 0.8055 - val_loss: 1.2725 - val_accuracy: 0.6181\n",
            "Epoch 39/100\n",
            "1563/1563 [==============================] - 11s 7ms/step - loss: 0.5414 - accuracy: 0.8152 - val_loss: 1.2789 - val_accuracy: 0.6239\n",
            "Epoch 40/100\n",
            "1563/1563 [==============================] - 11s 7ms/step - loss: 0.5134 - accuracy: 0.8266 - val_loss: 1.3284 - val_accuracy: 0.6129\n",
            "Epoch 41/100\n",
            "1563/1563 [==============================] - 11s 7ms/step - loss: 0.4866 - accuracy: 0.8358 - val_loss: 1.2582 - val_accuracy: 0.6325\n",
            "Epoch 42/100\n",
            "1563/1563 [==============================] - 11s 7ms/step - loss: 0.4598 - accuracy: 0.8444 - val_loss: 1.3979 - val_accuracy: 0.6085\n",
            "Epoch 43/100\n",
            "1563/1563 [==============================] - 11s 7ms/step - loss: 0.4321 - accuracy: 0.8534 - val_loss: 1.3548 - val_accuracy: 0.6261\n",
            "Epoch 44/100\n",
            "1563/1563 [==============================] - 11s 7ms/step - loss: 0.4098 - accuracy: 0.8618 - val_loss: 1.3888 - val_accuracy: 0.6222\n",
            "Epoch 45/100\n",
            "1563/1563 [==============================] - 11s 7ms/step - loss: 0.3838 - accuracy: 0.8708 - val_loss: 1.4983 - val_accuracy: 0.6146\n",
            "Epoch 46/100\n",
            "1563/1563 [==============================] - 11s 7ms/step - loss: 0.3575 - accuracy: 0.8803 - val_loss: 1.4947 - val_accuracy: 0.6205\n",
            "Epoch 47/100\n",
            "1563/1563 [==============================] - 11s 7ms/step - loss: 0.3352 - accuracy: 0.8878 - val_loss: 1.5430 - val_accuracy: 0.6141\n",
            "Epoch 48/100\n",
            "1563/1563 [==============================] - 11s 7ms/step - loss: 0.3139 - accuracy: 0.8953 - val_loss: 1.5682 - val_accuracy: 0.6176\n",
            "Epoch 49/100\n",
            "1563/1563 [==============================] - 11s 7ms/step - loss: 0.2891 - accuracy: 0.9038 - val_loss: 1.6538 - val_accuracy: 0.6221\n",
            "Epoch 50/100\n",
            "1563/1563 [==============================] - 11s 7ms/step - loss: 0.2686 - accuracy: 0.9102 - val_loss: 1.7760 - val_accuracy: 0.6052\n",
            "Epoch 51/100\n",
            "1563/1563 [==============================] - 11s 7ms/step - loss: 0.2474 - accuracy: 0.9187 - val_loss: 1.7556 - val_accuracy: 0.6166\n",
            "Epoch 52/100\n",
            "1563/1563 [==============================] - 11s 7ms/step - loss: 0.2286 - accuracy: 0.9256 - val_loss: 1.8794 - val_accuracy: 0.6053\n",
            "Epoch 53/100\n",
            "1563/1563 [==============================] - 11s 7ms/step - loss: 0.2092 - accuracy: 0.9311 - val_loss: 1.7780 - val_accuracy: 0.6236\n",
            "Epoch 54/100\n",
            "1563/1563 [==============================] - 11s 7ms/step - loss: 0.1908 - accuracy: 0.9375 - val_loss: 1.8760 - val_accuracy: 0.6230\n",
            "Epoch 55/100\n",
            "1563/1563 [==============================] - 11s 7ms/step - loss: 0.1760 - accuracy: 0.9427 - val_loss: 2.0166 - val_accuracy: 0.6188\n",
            "Epoch 56/100\n",
            "1563/1563 [==============================] - 11s 7ms/step - loss: 0.1622 - accuracy: 0.9473 - val_loss: 2.0586 - val_accuracy: 0.6187\n",
            "Epoch 57/100\n",
            "1563/1563 [==============================] - 11s 7ms/step - loss: 0.1486 - accuracy: 0.9513 - val_loss: 2.1714 - val_accuracy: 0.6091\n",
            "Epoch 58/100\n",
            "1563/1563 [==============================] - 11s 7ms/step - loss: 0.1362 - accuracy: 0.9555 - val_loss: 2.2434 - val_accuracy: 0.6128\n",
            "Epoch 59/100\n",
            "1563/1563 [==============================] - 11s 7ms/step - loss: 0.1230 - accuracy: 0.9602 - val_loss: 2.3000 - val_accuracy: 0.6063\n",
            "Epoch 60/100\n",
            "1563/1563 [==============================] - 11s 7ms/step - loss: 0.1132 - accuracy: 0.9642 - val_loss: 2.4148 - val_accuracy: 0.6145\n",
            "Epoch 61/100\n",
            "1563/1563 [==============================] - 11s 7ms/step - loss: 0.1044 - accuracy: 0.9673 - val_loss: 2.4144 - val_accuracy: 0.6182\n",
            "Epoch 62/100\n",
            "1563/1563 [==============================] - 11s 7ms/step - loss: 0.0967 - accuracy: 0.9697 - val_loss: 2.5365 - val_accuracy: 0.6116\n",
            "Epoch 63/100\n",
            "1563/1563 [==============================] - 11s 7ms/step - loss: 0.0862 - accuracy: 0.9732 - val_loss: 2.6577 - val_accuracy: 0.6185\n",
            "Epoch 64/100\n",
            "1563/1563 [==============================] - 11s 7ms/step - loss: 0.0809 - accuracy: 0.9745 - val_loss: 2.6719 - val_accuracy: 0.6177\n",
            "Epoch 65/100\n",
            "1563/1563 [==============================] - 11s 7ms/step - loss: 0.0749 - accuracy: 0.9755 - val_loss: 2.7174 - val_accuracy: 0.6212\n",
            "Epoch 66/100\n",
            "1563/1563 [==============================] - 11s 7ms/step - loss: 0.0699 - accuracy: 0.9777 - val_loss: 2.7853 - val_accuracy: 0.6162\n",
            "Epoch 67/100\n",
            "1563/1563 [==============================] - 11s 7ms/step - loss: 0.0656 - accuracy: 0.9789 - val_loss: 2.8773 - val_accuracy: 0.6167\n",
            "Epoch 68/100\n",
            "1563/1563 [==============================] - 11s 7ms/step - loss: 0.0616 - accuracy: 0.9803 - val_loss: 2.8942 - val_accuracy: 0.6187\n",
            "Epoch 69/100\n",
            "1563/1563 [==============================] - 11s 7ms/step - loss: 0.0569 - accuracy: 0.9816 - val_loss: 3.1603 - val_accuracy: 0.6011\n",
            "Epoch 70/100\n",
            "1563/1563 [==============================] - 11s 7ms/step - loss: 0.0537 - accuracy: 0.9826 - val_loss: 3.0320 - val_accuracy: 0.6198\n",
            "Epoch 71/100\n",
            "1563/1563 [==============================] - 11s 7ms/step - loss: 0.0510 - accuracy: 0.9841 - val_loss: 3.1263 - val_accuracy: 0.6072\n",
            "Epoch 72/100\n",
            "1563/1563 [==============================] - 11s 7ms/step - loss: 0.0506 - accuracy: 0.9840 - val_loss: 3.2054 - val_accuracy: 0.6080\n",
            "Epoch 73/100\n",
            "1563/1563 [==============================] - 11s 7ms/step - loss: 0.0478 - accuracy: 0.9849 - val_loss: 3.3541 - val_accuracy: 0.6070\n",
            "Epoch 74/100\n",
            "1563/1563 [==============================] - 11s 7ms/step - loss: 0.0451 - accuracy: 0.9851 - val_loss: 3.3378 - val_accuracy: 0.6108\n",
            "Epoch 75/100\n",
            "1563/1563 [==============================] - 11s 7ms/step - loss: 0.0425 - accuracy: 0.9866 - val_loss: 3.4890 - val_accuracy: 0.6039\n",
            "Epoch 76/100\n",
            "1563/1563 [==============================] - 11s 7ms/step - loss: 0.0389 - accuracy: 0.9880 - val_loss: 3.4977 - val_accuracy: 0.6138\n",
            "Epoch 77/100\n",
            "1563/1563 [==============================] - 11s 7ms/step - loss: 0.0384 - accuracy: 0.9876 - val_loss: 3.4311 - val_accuracy: 0.6176\n",
            "Epoch 78/100\n",
            "1563/1563 [==============================] - 11s 7ms/step - loss: 0.0392 - accuracy: 0.9879 - val_loss: 3.6431 - val_accuracy: 0.6150\n",
            "Epoch 79/100\n",
            "1563/1563 [==============================] - 11s 7ms/step - loss: 0.0371 - accuracy: 0.9883 - val_loss: 3.6350 - val_accuracy: 0.6159\n",
            "Epoch 80/100\n",
            "1563/1563 [==============================] - 11s 7ms/step - loss: 0.0360 - accuracy: 0.9886 - val_loss: 3.6920 - val_accuracy: 0.6150\n",
            "Epoch 81/100\n",
            "1563/1563 [==============================] - 11s 7ms/step - loss: 0.0358 - accuracy: 0.9886 - val_loss: 3.6385 - val_accuracy: 0.6122\n",
            "Epoch 82/100\n",
            "1563/1563 [==============================] - 11s 7ms/step - loss: 0.0347 - accuracy: 0.9890 - val_loss: 3.7279 - val_accuracy: 0.6214\n",
            "Epoch 83/100\n",
            "1563/1563 [==============================] - 11s 7ms/step - loss: 0.0341 - accuracy: 0.9889 - val_loss: 3.7475 - val_accuracy: 0.6181\n",
            "Epoch 84/100\n",
            "1563/1563 [==============================] - 11s 7ms/step - loss: 0.0315 - accuracy: 0.9900 - val_loss: 4.0950 - val_accuracy: 0.5969\n",
            "Epoch 85/100\n",
            "1563/1563 [==============================] - 11s 7ms/step - loss: 0.0301 - accuracy: 0.9901 - val_loss: 3.9036 - val_accuracy: 0.6107\n",
            "Epoch 86/100\n",
            "1563/1563 [==============================] - 11s 7ms/step - loss: 0.0312 - accuracy: 0.9901 - val_loss: 3.9703 - val_accuracy: 0.6100\n",
            "Epoch 87/100\n",
            "1563/1563 [==============================] - 11s 7ms/step - loss: 0.0302 - accuracy: 0.9908 - val_loss: 3.9843 - val_accuracy: 0.6109\n",
            "Epoch 88/100\n",
            "1563/1563 [==============================] - 11s 7ms/step - loss: 0.0284 - accuracy: 0.9914 - val_loss: 4.1290 - val_accuracy: 0.6114\n",
            "Epoch 89/100\n",
            "1563/1563 [==============================] - 11s 7ms/step - loss: 0.0269 - accuracy: 0.9911 - val_loss: 4.0632 - val_accuracy: 0.6162\n",
            "Epoch 90/100\n",
            "1563/1563 [==============================] - 11s 7ms/step - loss: 0.0267 - accuracy: 0.9919 - val_loss: 4.1106 - val_accuracy: 0.6156\n",
            "Epoch 91/100\n",
            "1563/1563 [==============================] - 11s 7ms/step - loss: 0.0267 - accuracy: 0.9913 - val_loss: 4.2673 - val_accuracy: 0.6165\n",
            "Epoch 92/100\n",
            "1563/1563 [==============================] - 11s 7ms/step - loss: 0.0266 - accuracy: 0.9916 - val_loss: 4.1735 - val_accuracy: 0.6146\n",
            "Epoch 93/100\n",
            "1563/1563 [==============================] - 11s 7ms/step - loss: 0.0254 - accuracy: 0.9919 - val_loss: 4.2732 - val_accuracy: 0.6096\n",
            "Epoch 94/100\n",
            "1563/1563 [==============================] - 11s 7ms/step - loss: 0.0261 - accuracy: 0.9916 - val_loss: 4.5392 - val_accuracy: 0.6072\n",
            "Epoch 95/100\n",
            "1563/1563 [==============================] - 11s 7ms/step - loss: 0.0252 - accuracy: 0.9921 - val_loss: 4.2741 - val_accuracy: 0.6119\n",
            "Epoch 96/100\n",
            "1563/1563 [==============================] - 11s 7ms/step - loss: 0.0267 - accuracy: 0.9913 - val_loss: 4.2762 - val_accuracy: 0.6124\n",
            "Epoch 97/100\n",
            "1563/1563 [==============================] - 11s 7ms/step - loss: 0.0242 - accuracy: 0.9922 - val_loss: 4.3553 - val_accuracy: 0.6160\n",
            "Epoch 98/100\n",
            "1563/1563 [==============================] - 11s 7ms/step - loss: 0.0251 - accuracy: 0.9919 - val_loss: 4.4495 - val_accuracy: 0.6069\n",
            "Epoch 99/100\n",
            "1563/1563 [==============================] - 11s 7ms/step - loss: 0.0249 - accuracy: 0.9923 - val_loss: 4.4975 - val_accuracy: 0.6117\n",
            "Epoch 100/100\n",
            "1563/1563 [==============================] - 11s 7ms/step - loss: 0.0228 - accuracy: 0.9925 - val_loss: 4.4515 - val_accuracy: 0.6169\n"
          ],
          "name": "stdout"
        }
      ]
    },
    {
      "cell_type": "code",
      "metadata": {
        "id": "tPI0YXmgALjx",
        "outputId": "67815a31-c481-4d20-bf0d-7b87dc1eaf81",
        "colab": {
          "base_uri": "https://localhost:8080/",
          "height": 34
        }
      },
      "source": [
        "# Save model and weights\n",
        "model_name = 'keras_cifar10_trained_model_no_dropout_no_aug.h5'\n",
        "if not os.path.isdir(save_dir):\n",
        "    os.makedirs(save_dir)\n",
        "model_path = os.path.join(save_dir, model_name)\n",
        "model.save(model_path)\n",
        "print('Saved trained model at %s ' % model_path)\n"
      ],
      "execution_count": 77,
      "outputs": [
        {
          "output_type": "stream",
          "text": [
            "Saved trained model at /content/drive/My Drive/Colab Notebooks/saved_models/keras_cifar10_trained_model_no_dropout_no_aug.h5 \n"
          ],
          "name": "stdout"
        }
      ]
    },
    {
      "cell_type": "code",
      "metadata": {
        "id": "lc8NYh3bkgKU",
        "outputId": "7b972caa-5c87-410c-c408-1c4441a3fde1",
        "colab": {
          "base_uri": "https://localhost:8080/",
          "height": 1000
        }
      },
      "source": [
        "# Parameters\n",
        "epochs=100\n",
        "data_augmentation=True\n",
        "\n",
        "model_no_dropout_aug = Sequential()\n",
        "model_no_dropout_aug.add(Conv2D(32, (3, 3), padding='same',\n",
        "                 input_shape=x_train.shape[1:]))\n",
        "model_no_dropout_aug.add(Activation('relu'))\n",
        "model_no_dropout_aug.add(Conv2D(32, (3, 3)))\n",
        "model_no_dropout_aug.add(Activation('relu'))\n",
        "model_no_dropout_aug.add(MaxPooling2D(pool_size=(2, 2)))\n",
        "\n",
        "model_no_dropout_aug.add(Conv2D(64, (3, 3), padding='same'))\n",
        "model_no_dropout_aug.add(Activation('relu'))\n",
        "model_no_dropout_aug.add(Conv2D(64, (3, 3)))\n",
        "model_no_dropout_aug.add(Activation('relu'))\n",
        "model_no_dropout_aug.add(MaxPooling2D(pool_size=(2, 2)))\n",
        "\n",
        "model_no_dropout_aug.add(Flatten())\n",
        "model_no_dropout_aug.add(Dense(512))\n",
        "model_no_dropout_aug.add(Activation('relu'))\n",
        "\n",
        "model_no_dropout_aug.add(Dense(num_classes))\n",
        "model_no_dropout_aug.add(Activation('softmax'))\n",
        "\n",
        "# initiate RMSprop optimizer\n",
        "opt = keras.optimizers.RMSprop(learning_rate=0.0001, decay=1e-6)\n",
        "\n",
        "# Let's train the model using RMSprop\n",
        "model_no_dropout_aug.compile(loss='categorical_crossentropy',\n",
        "              optimizer=opt,\n",
        "              metrics=['accuracy'])\n",
        "\n",
        "if not data_augmentation:\n",
        "    print('Not using data augmentation.')\n",
        "    history_no_dropout_aug = model_no_dropout_aug.fit(x_train, y_train,\n",
        "              batch_size=batch_size,\n",
        "              epochs=epochs,\n",
        "              validation_data=(x_test, y_test),\n",
        "              shuffle=True)\n",
        "else:\n",
        "    print('Using real-time data augmentation.')\n",
        "    # This will do preprocessing and realtime data augmentation:\n",
        "    datagen = ImageDataGenerator(\n",
        "        featurewise_center=False,  # set input mean to 0 over the dataset\n",
        "        samplewise_center=False,  # set each sample mean to 0\n",
        "        featurewise_std_normalization=False,  # divide inputs by std of the dataset\n",
        "        samplewise_std_normalization=False,  # divide each input by its std\n",
        "        zca_whitening=False,  # apply ZCA whitening\n",
        "        zca_epsilon=1e-06,  # epsilon for ZCA whitening\n",
        "        rotation_range=0,  # randomly rotate images in the range (degrees, 0 to 180)\n",
        "        # randomly shift images horizontally (fraction of total width)\n",
        "        width_shift_range=0.1,\n",
        "        # randomly shift images vertically (fraction of total height)\n",
        "        height_shift_range=0.1,\n",
        "        shear_range=0.,  # set range for random shear\n",
        "        zoom_range=0.,  # set range for random zoom\n",
        "        channel_shift_range=0.,  # set range for random channel shifts\n",
        "        # set mode for filling points outside the input boundaries\n",
        "        fill_mode='nearest',\n",
        "        cval=0.,  # value used for fill_mode = \"constant\"\n",
        "        horizontal_flip=True,  # randomly flip images\n",
        "        vertical_flip=False,  # randomly flip images\n",
        "        # set rescaling factor (applied before any other transformation)\n",
        "        rescale=None,\n",
        "        # set function that will be applied on each input\n",
        "        preprocessing_function=None,\n",
        "        # image data format, either \"channels_first\" or \"channels_last\"\n",
        "        data_format=None,\n",
        "        # fraction of images reserved for validation (strictly between 0 and 1)\n",
        "        validation_split=0.0)\n",
        "\n",
        "    # Compute quantities required for feature-wise normalization\n",
        "    # (std, mean, and principal components if ZCA whitening is applied).\n",
        "    datagen.fit(x_train)\n",
        "\n",
        "    # Fit the model on the batches generated by datagen.flow().\n",
        "    history_no_dropout_aug = model_no_dropout_aug.fit_generator(datagen.flow(x_train, y_train,\n",
        "                                     batch_size=batch_size),\n",
        "                        epochs=epochs,\n",
        "                        validation_data=(x_test, y_test),\n",
        "                        workers=4)"
      ],
      "execution_count": 70,
      "outputs": [
        {
          "output_type": "stream",
          "text": [
            "Using real-time data augmentation.\n",
            "Epoch 1/100\n",
            "1563/1563 [==============================] - 36s 23ms/step - loss: 2.1196 - accuracy: 0.2217 - val_loss: 1.9706 - val_accuracy: 0.2881\n",
            "Epoch 2/100\n",
            "1563/1563 [==============================] - 36s 23ms/step - loss: 1.9663 - accuracy: 0.2856 - val_loss: 1.8285 - val_accuracy: 0.3509\n",
            "Epoch 3/100\n",
            "1563/1563 [==============================] - 35s 23ms/step - loss: 1.8305 - accuracy: 0.3370 - val_loss: 1.6952 - val_accuracy: 0.3960\n",
            "Epoch 4/100\n",
            "1563/1563 [==============================] - 35s 23ms/step - loss: 1.7499 - accuracy: 0.3695 - val_loss: 1.6593 - val_accuracy: 0.4076\n",
            "Epoch 5/100\n",
            "1563/1563 [==============================] - 35s 23ms/step - loss: 1.6953 - accuracy: 0.3917 - val_loss: 1.5792 - val_accuracy: 0.4415\n",
            "Epoch 6/100\n",
            "1563/1563 [==============================] - 35s 22ms/step - loss: 1.6476 - accuracy: 0.4071 - val_loss: 1.5475 - val_accuracy: 0.4467\n",
            "Epoch 7/100\n",
            "1563/1563 [==============================] - 35s 23ms/step - loss: 1.5993 - accuracy: 0.4253 - val_loss: 1.5614 - val_accuracy: 0.4431\n",
            "Epoch 8/100\n",
            "1563/1563 [==============================] - 35s 22ms/step - loss: 1.5518 - accuracy: 0.4423 - val_loss: 1.4400 - val_accuracy: 0.4871\n",
            "Epoch 9/100\n",
            "1563/1563 [==============================] - 35s 22ms/step - loss: 1.5156 - accuracy: 0.4580 - val_loss: 1.4263 - val_accuracy: 0.4907\n",
            "Epoch 10/100\n",
            "1563/1563 [==============================] - 35s 23ms/step - loss: 1.4800 - accuracy: 0.4690 - val_loss: 1.4153 - val_accuracy: 0.4901\n",
            "Epoch 11/100\n",
            "1563/1563 [==============================] - 35s 22ms/step - loss: 1.4476 - accuracy: 0.4807 - val_loss: 1.3378 - val_accuracy: 0.5246\n",
            "Epoch 12/100\n",
            "1563/1563 [==============================] - 35s 22ms/step - loss: 1.4215 - accuracy: 0.4913 - val_loss: 1.3399 - val_accuracy: 0.5266\n",
            "Epoch 13/100\n",
            "1563/1563 [==============================] - 35s 23ms/step - loss: 1.3931 - accuracy: 0.5033 - val_loss: 1.3151 - val_accuracy: 0.5267\n",
            "Epoch 14/100\n",
            "1563/1563 [==============================] - 35s 23ms/step - loss: 1.3667 - accuracy: 0.5127 - val_loss: 1.3004 - val_accuracy: 0.5427\n",
            "Epoch 15/100\n",
            "1563/1563 [==============================] - 35s 22ms/step - loss: 1.3426 - accuracy: 0.5210 - val_loss: 1.2515 - val_accuracy: 0.5547\n",
            "Epoch 16/100\n",
            "1563/1563 [==============================] - 35s 22ms/step - loss: 1.3188 - accuracy: 0.5315 - val_loss: 1.2309 - val_accuracy: 0.5670\n",
            "Epoch 17/100\n",
            "1563/1563 [==============================] - 35s 23ms/step - loss: 1.2965 - accuracy: 0.5391 - val_loss: 1.2063 - val_accuracy: 0.5703\n",
            "Epoch 18/100\n",
            "1563/1563 [==============================] - 36s 23ms/step - loss: 1.2742 - accuracy: 0.5476 - val_loss: 1.1761 - val_accuracy: 0.5851\n",
            "Epoch 19/100\n",
            "1563/1563 [==============================] - 35s 23ms/step - loss: 1.2487 - accuracy: 0.5567 - val_loss: 1.2192 - val_accuracy: 0.5722\n",
            "Epoch 20/100\n",
            "1563/1563 [==============================] - 35s 22ms/step - loss: 1.2337 - accuracy: 0.5620 - val_loss: 1.1502 - val_accuracy: 0.5914\n",
            "Epoch 21/100\n",
            "1563/1563 [==============================] - 35s 22ms/step - loss: 1.2141 - accuracy: 0.5689 - val_loss: 1.1433 - val_accuracy: 0.5933\n",
            "Epoch 22/100\n",
            "1563/1563 [==============================] - 35s 22ms/step - loss: 1.1958 - accuracy: 0.5769 - val_loss: 1.1186 - val_accuracy: 0.6016\n",
            "Epoch 23/100\n",
            "1563/1563 [==============================] - 35s 22ms/step - loss: 1.1764 - accuracy: 0.5829 - val_loss: 1.1091 - val_accuracy: 0.6135\n",
            "Epoch 24/100\n",
            "1563/1563 [==============================] - 35s 22ms/step - loss: 1.1570 - accuracy: 0.5926 - val_loss: 1.0829 - val_accuracy: 0.6205\n",
            "Epoch 25/100\n",
            "1563/1563 [==============================] - 35s 22ms/step - loss: 1.1427 - accuracy: 0.5978 - val_loss: 1.0874 - val_accuracy: 0.6177\n",
            "Epoch 26/100\n",
            "1563/1563 [==============================] - 35s 22ms/step - loss: 1.1209 - accuracy: 0.6054 - val_loss: 1.0599 - val_accuracy: 0.6279\n",
            "Epoch 27/100\n",
            "1563/1563 [==============================] - 36s 23ms/step - loss: 1.1054 - accuracy: 0.6096 - val_loss: 1.0496 - val_accuracy: 0.6273\n",
            "Epoch 28/100\n",
            "1563/1563 [==============================] - 35s 23ms/step - loss: 1.0942 - accuracy: 0.6146 - val_loss: 1.0465 - val_accuracy: 0.6345\n",
            "Epoch 29/100\n",
            "1563/1563 [==============================] - 35s 22ms/step - loss: 1.0795 - accuracy: 0.6225 - val_loss: 1.0193 - val_accuracy: 0.6426\n",
            "Epoch 30/100\n",
            "1563/1563 [==============================] - 35s 23ms/step - loss: 1.0694 - accuracy: 0.6246 - val_loss: 1.0324 - val_accuracy: 0.6402\n",
            "Epoch 31/100\n",
            "1563/1563 [==============================] - 35s 22ms/step - loss: 1.0549 - accuracy: 0.6316 - val_loss: 0.9977 - val_accuracy: 0.6479\n",
            "Epoch 32/100\n",
            "1563/1563 [==============================] - 35s 22ms/step - loss: 1.0419 - accuracy: 0.6358 - val_loss: 0.9902 - val_accuracy: 0.6502\n",
            "Epoch 33/100\n",
            "1563/1563 [==============================] - 35s 23ms/step - loss: 1.0321 - accuracy: 0.6378 - val_loss: 1.0166 - val_accuracy: 0.6403\n",
            "Epoch 34/100\n",
            "1563/1563 [==============================] - 35s 22ms/step - loss: 1.0200 - accuracy: 0.6444 - val_loss: 0.9923 - val_accuracy: 0.6483\n",
            "Epoch 35/100\n",
            "1563/1563 [==============================] - 35s 22ms/step - loss: 1.0056 - accuracy: 0.6496 - val_loss: 0.9600 - val_accuracy: 0.6631\n",
            "Epoch 36/100\n",
            "1563/1563 [==============================] - 36s 23ms/step - loss: 0.9973 - accuracy: 0.6518 - val_loss: 0.9578 - val_accuracy: 0.6649\n",
            "Epoch 37/100\n",
            "1563/1563 [==============================] - 35s 23ms/step - loss: 0.9916 - accuracy: 0.6550 - val_loss: 0.9421 - val_accuracy: 0.6705\n",
            "Epoch 38/100\n",
            "1563/1563 [==============================] - 35s 23ms/step - loss: 0.9813 - accuracy: 0.6578 - val_loss: 1.0024 - val_accuracy: 0.6566\n",
            "Epoch 39/100\n",
            "1563/1563 [==============================] - 35s 23ms/step - loss: 0.9682 - accuracy: 0.6610 - val_loss: 0.9489 - val_accuracy: 0.6697\n",
            "Epoch 40/100\n",
            "1563/1563 [==============================] - 35s 22ms/step - loss: 0.9674 - accuracy: 0.6633 - val_loss: 0.9436 - val_accuracy: 0.6733\n",
            "Epoch 41/100\n",
            "1563/1563 [==============================] - 35s 22ms/step - loss: 0.9518 - accuracy: 0.6685 - val_loss: 0.9417 - val_accuracy: 0.6721\n",
            "Epoch 42/100\n",
            "1563/1563 [==============================] - 35s 22ms/step - loss: 0.9426 - accuracy: 0.6716 - val_loss: 0.9352 - val_accuracy: 0.6739\n",
            "Epoch 43/100\n",
            "1563/1563 [==============================] - 35s 22ms/step - loss: 0.9380 - accuracy: 0.6731 - val_loss: 0.9335 - val_accuracy: 0.6749\n",
            "Epoch 44/100\n",
            "1563/1563 [==============================] - 35s 23ms/step - loss: 0.9286 - accuracy: 0.6792 - val_loss: 0.9107 - val_accuracy: 0.6830\n",
            "Epoch 45/100\n",
            "1563/1563 [==============================] - 35s 23ms/step - loss: 0.9173 - accuracy: 0.6810 - val_loss: 0.9461 - val_accuracy: 0.6742\n",
            "Epoch 46/100\n",
            "1563/1563 [==============================] - 35s 22ms/step - loss: 0.9145 - accuracy: 0.6807 - val_loss: 0.8963 - val_accuracy: 0.6932\n",
            "Epoch 47/100\n",
            "1563/1563 [==============================] - 35s 23ms/step - loss: 0.9046 - accuracy: 0.6868 - val_loss: 0.8948 - val_accuracy: 0.6921\n",
            "Epoch 48/100\n",
            "1563/1563 [==============================] - 35s 23ms/step - loss: 0.8993 - accuracy: 0.6888 - val_loss: 0.8992 - val_accuracy: 0.6927\n",
            "Epoch 49/100\n",
            "1563/1563 [==============================] - 35s 23ms/step - loss: 0.8908 - accuracy: 0.6913 - val_loss: 0.8986 - val_accuracy: 0.6882\n",
            "Epoch 50/100\n",
            "1563/1563 [==============================] - 35s 23ms/step - loss: 0.8808 - accuracy: 0.6935 - val_loss: 0.8972 - val_accuracy: 0.6896\n",
            "Epoch 51/100\n",
            "1563/1563 [==============================] - 35s 22ms/step - loss: 0.8756 - accuracy: 0.6953 - val_loss: 0.8881 - val_accuracy: 0.6953\n",
            "Epoch 52/100\n",
            "1563/1563 [==============================] - 35s 23ms/step - loss: 0.8735 - accuracy: 0.6953 - val_loss: 0.9186 - val_accuracy: 0.6843\n",
            "Epoch 53/100\n",
            "1563/1563 [==============================] - 35s 23ms/step - loss: 0.8627 - accuracy: 0.7022 - val_loss: 0.8636 - val_accuracy: 0.7013\n",
            "Epoch 54/100\n",
            "1563/1563 [==============================] - 36s 23ms/step - loss: 0.8559 - accuracy: 0.7017 - val_loss: 0.8697 - val_accuracy: 0.7010\n",
            "Epoch 55/100\n",
            "1563/1563 [==============================] - 35s 22ms/step - loss: 0.8539 - accuracy: 0.7053 - val_loss: 0.8700 - val_accuracy: 0.7037\n",
            "Epoch 56/100\n",
            "1563/1563 [==============================] - 35s 22ms/step - loss: 0.8432 - accuracy: 0.7083 - val_loss: 0.8845 - val_accuracy: 0.6908\n",
            "Epoch 57/100\n",
            "1563/1563 [==============================] - 35s 23ms/step - loss: 0.8405 - accuracy: 0.7099 - val_loss: 0.8701 - val_accuracy: 0.7081\n",
            "Epoch 58/100\n",
            "1563/1563 [==============================] - 36s 23ms/step - loss: 0.8321 - accuracy: 0.7116 - val_loss: 0.8381 - val_accuracy: 0.7145\n",
            "Epoch 59/100\n",
            "1563/1563 [==============================] - 35s 23ms/step - loss: 0.8327 - accuracy: 0.7108 - val_loss: 0.8668 - val_accuracy: 0.7034\n",
            "Epoch 60/100\n",
            "1563/1563 [==============================] - 35s 23ms/step - loss: 0.8257 - accuracy: 0.7132 - val_loss: 0.8321 - val_accuracy: 0.7161\n",
            "Epoch 61/100\n",
            "1563/1563 [==============================] - 35s 23ms/step - loss: 0.8224 - accuracy: 0.7139 - val_loss: 0.8369 - val_accuracy: 0.7108\n",
            "Epoch 62/100\n",
            "1563/1563 [==============================] - 36s 23ms/step - loss: 0.8138 - accuracy: 0.7185 - val_loss: 0.9019 - val_accuracy: 0.6895\n",
            "Epoch 63/100\n",
            "1563/1563 [==============================] - 35s 23ms/step - loss: 0.8120 - accuracy: 0.7190 - val_loss: 0.8436 - val_accuracy: 0.7109\n",
            "Epoch 64/100\n",
            "1563/1563 [==============================] - 35s 23ms/step - loss: 0.8036 - accuracy: 0.7225 - val_loss: 0.8456 - val_accuracy: 0.7127\n",
            "Epoch 65/100\n",
            "1563/1563 [==============================] - 35s 22ms/step - loss: 0.8042 - accuracy: 0.7192 - val_loss: 0.8151 - val_accuracy: 0.7192\n",
            "Epoch 66/100\n",
            "1563/1563 [==============================] - 35s 22ms/step - loss: 0.7914 - accuracy: 0.7256 - val_loss: 0.8433 - val_accuracy: 0.7098\n",
            "Epoch 67/100\n",
            "1563/1563 [==============================] - 35s 23ms/step - loss: 0.7945 - accuracy: 0.7246 - val_loss: 0.8172 - val_accuracy: 0.7181\n",
            "Epoch 68/100\n",
            "1563/1563 [==============================] - 36s 23ms/step - loss: 0.7863 - accuracy: 0.7271 - val_loss: 0.8326 - val_accuracy: 0.7191\n",
            "Epoch 69/100\n",
            "1563/1563 [==============================] - 36s 23ms/step - loss: 0.7831 - accuracy: 0.7278 - val_loss: 0.8431 - val_accuracy: 0.7176\n",
            "Epoch 70/100\n",
            "1563/1563 [==============================] - 35s 23ms/step - loss: 0.7782 - accuracy: 0.7327 - val_loss: 0.8306 - val_accuracy: 0.7210\n",
            "Epoch 71/100\n",
            "1563/1563 [==============================] - 36s 23ms/step - loss: 0.7799 - accuracy: 0.7301 - val_loss: 0.8227 - val_accuracy: 0.7250\n",
            "Epoch 72/100\n",
            "1563/1563 [==============================] - 35s 22ms/step - loss: 0.7791 - accuracy: 0.7302 - val_loss: 0.8176 - val_accuracy: 0.7247\n",
            "Epoch 73/100\n",
            "1563/1563 [==============================] - 35s 22ms/step - loss: 0.7713 - accuracy: 0.7340 - val_loss: 0.8127 - val_accuracy: 0.7275\n",
            "Epoch 74/100\n",
            "1563/1563 [==============================] - 35s 22ms/step - loss: 0.7709 - accuracy: 0.7341 - val_loss: 0.8122 - val_accuracy: 0.7263\n",
            "Epoch 75/100\n",
            "1563/1563 [==============================] - 35s 23ms/step - loss: 0.7640 - accuracy: 0.7344 - val_loss: 0.8231 - val_accuracy: 0.7153\n",
            "Epoch 76/100\n",
            "1563/1563 [==============================] - 35s 23ms/step - loss: 0.7623 - accuracy: 0.7357 - val_loss: 0.8412 - val_accuracy: 0.7144\n",
            "Epoch 77/100\n",
            "1563/1563 [==============================] - 35s 23ms/step - loss: 0.7600 - accuracy: 0.7372 - val_loss: 0.8116 - val_accuracy: 0.7195\n",
            "Epoch 78/100\n",
            "1563/1563 [==============================] - 36s 23ms/step - loss: 0.7570 - accuracy: 0.7383 - val_loss: 0.8586 - val_accuracy: 0.7035\n",
            "Epoch 79/100\n",
            "1563/1563 [==============================] - 36s 23ms/step - loss: 0.7560 - accuracy: 0.7375 - val_loss: 0.8620 - val_accuracy: 0.7128\n",
            "Epoch 80/100\n",
            "1563/1563 [==============================] - 35s 23ms/step - loss: 0.7549 - accuracy: 0.7366 - val_loss: 0.8077 - val_accuracy: 0.7329\n",
            "Epoch 81/100\n",
            "1563/1563 [==============================] - 35s 22ms/step - loss: 0.7534 - accuracy: 0.7402 - val_loss: 0.8255 - val_accuracy: 0.7162\n",
            "Epoch 82/100\n",
            "1563/1563 [==============================] - 35s 22ms/step - loss: 0.7485 - accuracy: 0.7416 - val_loss: 0.8123 - val_accuracy: 0.7245\n",
            "Epoch 83/100\n",
            "1563/1563 [==============================] - 35s 22ms/step - loss: 0.7476 - accuracy: 0.7404 - val_loss: 0.8265 - val_accuracy: 0.7260\n",
            "Epoch 84/100\n",
            "1563/1563 [==============================] - 35s 22ms/step - loss: 0.7451 - accuracy: 0.7427 - val_loss: 0.8262 - val_accuracy: 0.7234\n",
            "Epoch 85/100\n",
            "1563/1563 [==============================] - 35s 22ms/step - loss: 0.7420 - accuracy: 0.7447 - val_loss: 0.8092 - val_accuracy: 0.7292\n",
            "Epoch 86/100\n",
            "1563/1563 [==============================] - 35s 22ms/step - loss: 0.7411 - accuracy: 0.7445 - val_loss: 0.7981 - val_accuracy: 0.7276\n",
            "Epoch 87/100\n",
            "1563/1563 [==============================] - 35s 22ms/step - loss: 0.7400 - accuracy: 0.7447 - val_loss: 0.7892 - val_accuracy: 0.7349\n",
            "Epoch 88/100\n",
            "1563/1563 [==============================] - 35s 22ms/step - loss: 0.7367 - accuracy: 0.7467 - val_loss: 0.8169 - val_accuracy: 0.7196\n",
            "Epoch 89/100\n",
            "1563/1563 [==============================] - 36s 23ms/step - loss: 0.7350 - accuracy: 0.7450 - val_loss: 0.8456 - val_accuracy: 0.7218\n",
            "Epoch 90/100\n",
            "1563/1563 [==============================] - 35s 23ms/step - loss: 0.7398 - accuracy: 0.7447 - val_loss: 0.8567 - val_accuracy: 0.7136\n",
            "Epoch 91/100\n",
            "1563/1563 [==============================] - 35s 22ms/step - loss: 0.7366 - accuracy: 0.7445 - val_loss: 0.8802 - val_accuracy: 0.7031\n",
            "Epoch 92/100\n",
            "1563/1563 [==============================] - 35s 23ms/step - loss: 0.7379 - accuracy: 0.7450 - val_loss: 0.8362 - val_accuracy: 0.7143\n",
            "Epoch 93/100\n",
            "1563/1563 [==============================] - 35s 23ms/step - loss: 0.7328 - accuracy: 0.7475 - val_loss: 0.8218 - val_accuracy: 0.7164\n",
            "Epoch 94/100\n",
            "1563/1563 [==============================] - 35s 22ms/step - loss: 0.7315 - accuracy: 0.7467 - val_loss: 0.8118 - val_accuracy: 0.7227\n",
            "Epoch 95/100\n",
            "1563/1563 [==============================] - 35s 22ms/step - loss: 0.7305 - accuracy: 0.7461 - val_loss: 0.8391 - val_accuracy: 0.7175\n",
            "Epoch 96/100\n",
            "1563/1563 [==============================] - 35s 23ms/step - loss: 0.7277 - accuracy: 0.7489 - val_loss: 0.8308 - val_accuracy: 0.7120\n",
            "Epoch 97/100\n",
            "1563/1563 [==============================] - 35s 22ms/step - loss: 0.7286 - accuracy: 0.7488 - val_loss: 0.8257 - val_accuracy: 0.7303\n",
            "Epoch 98/100\n",
            "1563/1563 [==============================] - 35s 23ms/step - loss: 0.7295 - accuracy: 0.7503 - val_loss: 0.7972 - val_accuracy: 0.7348\n",
            "Epoch 99/100\n",
            "1563/1563 [==============================] - 35s 22ms/step - loss: 0.7244 - accuracy: 0.7503 - val_loss: 0.8538 - val_accuracy: 0.7183\n",
            "Epoch 100/100\n",
            "1563/1563 [==============================] - 35s 22ms/step - loss: 0.7247 - accuracy: 0.7507 - val_loss: 0.7815 - val_accuracy: 0.7374\n"
          ],
          "name": "stdout"
        }
      ]
    },
    {
      "cell_type": "code",
      "metadata": {
        "id": "euvMupogAQVw",
        "outputId": "3d21da30-40da-457f-d272-9b552c8b2b98",
        "colab": {
          "base_uri": "https://localhost:8080/",
          "height": 34
        }
      },
      "source": [
        "# Save model and weights\n",
        "model_name = 'keras_cifar10_trained_model_no_dropout_aug.h5'\n",
        "if not os.path.isdir(save_dir):\n",
        "    os.makedirs(save_dir)\n",
        "model_path = os.path.join(save_dir, model_name)\n",
        "model.save(model_path)\n",
        "print('Saved trained model at %s ' % model_path)\n"
      ],
      "execution_count": 78,
      "outputs": [
        {
          "output_type": "stream",
          "text": [
            "Saved trained model at /content/drive/My Drive/Colab Notebooks/saved_models/keras_cifar10_trained_model_no_dropout_aug.h5 \n"
          ],
          "name": "stdout"
        }
      ]
    },
    {
      "cell_type": "code",
      "metadata": {
        "id": "BGbBEuFW4aKf",
        "outputId": "3eb09db9-978b-4046-cd66-44e73c2d94ce",
        "colab": {
          "base_uri": "https://localhost:8080/",
          "height": 312
        }
      },
      "source": [
        "plt.plot(history_dropout_aug.history['accuracy'], label='Dropout and Augmentation')\n",
        "plt.plot(history_dropout_no_aug.history['accuracy'], label='Dropout and No Augmentation')\n",
        "plt.plot(history_no_dropout_aug.history['accuracy'], label='No Dropout and Augmentation')\n",
        "plt.plot(history_no_dropout_no_aug.history['accuracy'], label='No Dropout and No Augmentation')\n",
        "plt.ylabel('Accuracy')\n",
        "plt.xlabel('Epoch')\n",
        "plt.title('Training Accuracy by Epoch')\n",
        "plt.legend()"
      ],
      "execution_count": 83,
      "outputs": [
        {
          "output_type": "execute_result",
          "data": {
            "text/plain": [
              "<matplotlib.legend.Legend at 0x7f581107db38>"
            ]
          },
          "metadata": {
            "tags": []
          },
          "execution_count": 83
        },
        {
          "output_type": "display_data",
          "data": {
            "image/png": "[encoded data removed]",
            "text/plain": [
              "<Figure size 432x288 with 1 Axes>"
            ]
          },
          "metadata": {
            "tags": [],
            "needs_background": "light"
          }
        }
      ]
    },
    {
      "cell_type": "markdown",
      "metadata": {
        "id": "BPIkcxCJHP2A"
      },
      "source": [
        "In the training accuracy plot, consider the two models that included dropout. The model without any data augmentation has higher training accuracy when compared to the model to the model that did have data augmentation. Since there are fewer training examples in the model without data augmentation, it makes sense the model would learn more because there's less to learn. Similar phenomenon occur for the two models without dropout when comparing whether or not the model had data augmentation. If we want to compare models with dropout versus models without dropout, first consider the two models with data augmentation. The model with dropout learned less than the model without dropout. The same thing happens with the no data augmentation models. This also makes sense, because models without dropout are more at risk for overfitting to the training data than models with dropout. "
      ]
    },
    {
      "cell_type": "code",
      "metadata": {
        "id": "Jyjikq6zJxQN",
        "outputId": "fe3ab0d0-c16a-4e4c-b173-cb55875aac01",
        "colab": {
          "base_uri": "https://localhost:8080/",
          "height": 312
        }
      },
      "source": [
        "plt.plot(history_dropout_aug.history['val_accuracy'], label='Dropout and Augmentation')\n",
        "plt.plot(history_dropout_no_aug.history['val_accuracy'], label='Dropout and No Augmentation')\n",
        "plt.plot(history_no_dropout_aug.history['val_accuracy'], label='No Dropout and Augmentation')\n",
        "plt.plot(history_no_dropout_no_aug.history['val_accuracy'], label='No Dropout and No Augmentation')\n",
        "plt.ylabel('Accuracy')\n",
        "plt.xlabel('Epoch')\n",
        "plt.title('Validation Accuracy by Epoch')\n",
        "plt.legend()"
      ],
      "execution_count": 84,
      "outputs": [
        {
          "output_type": "execute_result",
          "data": {
            "text/plain": [
              "<matplotlib.legend.Legend at 0x7f581100a390>"
            ]
          },
          "metadata": {
            "tags": []
          },
          "execution_count": 84
        },
        {
          "output_type": "display_data",
          "data": {
            "image/png": "[encoded data removed]",
            "text/plain": [
              "<Figure size 432x288 with 1 Axes>"
            ]
          },
          "metadata": {
            "tags": [],
            "needs_background": "light"
          }
        }
      ]
    },
    {
      "cell_type": "markdown",
      "metadata": {
        "id": "jz2-e0ZUKQR7"
      },
      "source": [
        "Consider the models with data augmentation versus those without data augmentation. For the models with dropout, the data augmentation doesn't seem to make too much of a difference across the epochs. Whatever benefit data augmentation may have gets overshadowed by dropout. This makes sense because dropout may be seen as a form of data augmentation (see https://arxiv.org/pdf/1506.08700.pdf), so the extra data augmentation may just have a redundant effect. For the models without dropout, the model with data augmentation appears to perform significantly better than the model without data augmentation. This illustrates the idea that data augmentation helps to prevent overfitting (just like dropout). Without data augmentation, the model seems to overfit the data.  "
      ]
    },
    {
      "cell_type": "code",
      "metadata": {
        "id": "x2X6qmgrNXAq"
      },
      "source": [
        ""
      ],
      "execution_count": null,
      "outputs": []
    }
  ]
}